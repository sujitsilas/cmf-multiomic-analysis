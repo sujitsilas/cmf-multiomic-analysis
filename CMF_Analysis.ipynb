{
 "cells": [
  {
   "cell_type": "code",
   "execution_count": null,
   "metadata": {},
   "outputs": [],
   "source": [
    "import pandas as pd\n",
    "import numpy as np\n",
    "import matplotlib.pyplot as plt\n",
    "from scipy.stats import zscore\n",
    "import tensorly as tl\n",
    "from tlviz.factor_tools import factor_match_score\n",
    "import seaborn as sns\n",
    "import matcouply.decomposition as decomposition\n",
    "from matcouply.coupled_matrices import CoupledMatrixFactorization\n",
    "import fastcluster\n",
    "from sklearn.cluster import KMeans\n",
    "from matplotlib.patches import Rectangle\n",
    "import plotly.express as px\n",
    "import csv\n",
    "import pickle"
   ]
  },
  {
   "cell_type": "markdown",
   "metadata": {},
   "source": [
    "# Coupled Matrix Factorizations (CMF)\n",
    "\n",
    "**Coupled matrix factorizations** are a technique for finding patterns in collections of matrices and third-order tensors. They are used to jointly factorize a collection of matrices where each matrix has the same number of columns but a different number of rows.\n"
   ]
  },
  {
   "cell_type": "code",
   "execution_count": 13,
   "metadata": {},
   "outputs": [
    {
     "name": "stdout",
     "output_type": "stream",
     "text": [
      "Filtered matrix shapes:\n",
      "RRBS: (414234, 12)\n",
      "RNA-seq: (26210, 12)\n",
      "Metabolomics: (137, 12)\n",
      "RRBS Indices:                        0\n",
      "0       GL456368.1_19257\n",
      "1        GL456381.1_5881\n",
      "2              1_3091100\n",
      "3              1_3091114\n",
      "4              1_3091195\n",
      "...                  ...\n",
      "414229        2_39028657\n",
      "414230        2_39080397\n",
      "414231        2_39080686\n",
      "414232        2_39103306\n",
      "414233        2_39116082\n",
      "\n",
      "[414234 rows x 1 columns]\n",
      "RNA-seq Indices:              0\n",
      "0        Gnai3\n",
      "1        Cdc45\n",
      "2          H19\n",
      "3        Scml2\n",
      "4         Narf\n",
      "...        ...\n",
      "26205    Rn7sk\n",
      "26206  Gm55635\n",
      "26207  Gm55944\n",
      "26208  Gm55307\n",
      "26209  Gm55431\n",
      "\n",
      "[26210 rows x 1 columns]\n",
      "Metabolomics Indices:                           0\n",
      "0           2-Aminobutyrate\n",
      "1                      2-HG\n",
      "2              2-Oxoadipate\n",
      "3        3-Phosphoglycerate\n",
      "4    4-Hydroxyphenyllactate\n",
      "..                      ...\n",
      "132                  Uracil\n",
      "133                 Uridine\n",
      "134                     UTP\n",
      "135                  Valine\n",
      "136                Xanthine\n",
      "\n",
      "[137 rows x 1 columns]\n"
     ]
    }
   ],
   "source": [
    "# Load matrices\n",
    "rrbs_matrix = pd.read_csv(\"RRBS_CMF.csv\", index_col=0)  # Assuming first column is an index\n",
    "rna_matrix = pd.read_csv(\"RNA_CMF.csv\", index_col=0)\n",
    "metabo_matrix = pd.read_csv(\"METABO_CMF.csv\", index_col=0)\n",
    "\n",
    "# Filtering\n",
    "rrbs_matrix_filtered = rrbs_matrix[rrbs_matrix.sum(axis=1) > 6]  # At least half the sites are methylated\n",
    "rna_matrix_filtered = rna_matrix[rna_matrix.sum(axis=1) > 10]  # At least 10 reads per gene across all samples\n",
    "\n",
    "# Save indices of the filtered matrices\n",
    "rrbs_indices = pd.DataFrame(rrbs_matrix_filtered.index)\n",
    "rna_indices = pd.DataFrame(rna_matrix_filtered.index)\n",
    "metabo_indices =pd.DataFrame( metabo_matrix.index)  # No filtering applied to metabolomics data\n",
    "\n",
    "# Print shapes and indices\n",
    "print(\"Filtered matrix shapes:\")\n",
    "print(f\"RRBS: {rrbs_matrix_filtered.shape}\")\n",
    "print(f\"RNA-seq: {rna_matrix_filtered.shape}\")\n",
    "print(f\"Metabolomics: {metabo_matrix.shape}\")\n",
    "\n",
    "# Optionally, you can save the indices to a file if needed\n",
    "# For example, to save to CSV:\n",
    "rrbs_indices.to_csv(\"rrbs_indices.csv\", index=True)\n",
    "rna_indices.to_csv(\"rna_indices.csv\", index=True)\n",
    "metabo_indices.to_csv(\"metabo_indices.csv\", index=True)\n",
    "\n",
    "# Print indices for verification\n",
    "print(\"RRBS Indices:\", rrbs_indices)\n",
    "print(\"RNA-seq Indices:\", rna_indices)\n",
    "print(\"Metabolomics Indices:\", metabo_indices)\n"
   ]
  },
  {
   "cell_type": "code",
   "execution_count": null,
   "metadata": {},
   "outputs": [],
   "source": [
    "# Mean centering\n",
    "rrbs_matrix = zscore(rrbs_matrix, axis=0)\n",
    "rna_matrix = zscore(rna_matrix, axis=0)\n",
    "metabo_matrix = zscore(metabo_matrix, axis=0)"
   ]
  },
  {
   "cell_type": "code",
   "execution_count": null,
   "metadata": {},
   "outputs": [
    {
     "name": "stdout",
     "output_type": "stream",
     "text": [
      "2 components\n",
      "3 components\n",
      "4 components\n",
      "5 components\n",
      "6 components\n",
      "7 components\n",
      "8 components\n",
      "9 components\n",
      "10 components\n",
      "11 components\n",
      "12 components\n",
      "13 components\n",
      "14 components\n",
      "15 components\n",
      "16 components\n",
      "17 components\n",
      "18 components\n",
      "19 components\n",
      "Fit Scores: [-19076.286207913014, -23495.324450497214, -28400.34500105692, -31407.863873781636, -37477.86381539995, -40412.53703000225, -42876.24736930636, -44907.74858632554, -47147.2313181432, -52573.80215528588, -54881.84954874816, -54009.63552752726, -55298.75575603562, -59583.830372028686, -60658.910233391136, -60170.29227233731, -60959.48654896522, -60560.65466768407]\n",
      "B Gaps: [0.0006382864557456568, 0.0006060733519579504, 0.0008079035633389273, 0.0004539810326459854, 0.0031089165904706227, 0.0020563970347198222, 0.000653185358955649, 0.00029542892218662365, 0.0007864554385757902, 0.001012362575632967, 0.00021425281734253305, 0.00042795382654702355, 0.0002242468753134859, 0.00018657254197697586, 0.00020618955771978573, 0.00016082190182916447, 0.00020181755112492434, 0.00019089903943532297]\n",
      "A Gaps: [0.0, 0.0, 0.0, 0.0, 0.0, 0.0, 0.0, 0.0, 0.0, 0.0, 0.0, 0.0, 0.0, 0.0, 2.879281683890394e-20, 0.0, 0.0, 0.0]\n"
     ]
    }
   ],
   "source": [
    "# Regularization strength (adjust this based on your application)\n",
    "l1_reg_strength = 0.2  # Modify as needed\n",
    "\n",
    "# Lists to track fit scores and gaps\n",
    "fit_scores = []\n",
    "B_gaps = []\n",
    "A_gaps = []\n",
    "\n",
    "# Loop over the number of components\n",
    "for num_components in range(2, 20):\n",
    "    print(num_components, \"components\")\n",
    "    lowest_error = float(\"inf\")\n",
    "    for init in range(20):  # Use three initializations; increase for complex data\n",
    "        cmf, diagnostics = decomposition.parafac2_aoadmm(\n",
    "            (tl.tensor(rrbs_matrix), tl.tensor(rna_matrix), tl.tensor(metabo_matrix)),\n",
    "            num_components,\n",
    "            n_iter_max=100,\n",
    "            non_negative=[False, False, False],\n",
    "            return_errors=True,\n",
    "            random_state=init, l1_penalty=l1_reg_strength\n",
    "        )\n",
    "        \n",
    "        # Track the solution with the lowest error\n",
    "        if diagnostics.regularized_loss[-1] < lowest_error:\n",
    "            selected_cmf = cmf\n",
    "            selected_diagnostics = diagnostics\n",
    "            lowest_error = diagnostics.regularized_loss[-1]\n",
    "\n",
    "    # Compute fit score based on lowest error for this component count\n",
    "    fit_score = 1 - lowest_error\n",
    "    fit_scores.append(fit_score)\n",
    "    \n",
    "    # Track feasibility gaps for diagnostics\n",
    "    B_gaps.append(selected_diagnostics.feasibility_gaps[-1][1][0])\n",
    "    A_gaps.append(selected_diagnostics.feasibility_gaps[-1][0][0])\n",
    "\n",
    "# After the loop, fit_scores, B_gaps, and A_gaps will contain the values for each component count\n",
    "print(\"Fit Scores:\", fit_scores)\n",
    "print(\"B Gaps:\", B_gaps)\n",
    "print(\"A Gaps:\", A_gaps)\n"
   ]
  },
  {
   "cell_type": "code",
   "execution_count": null,
   "metadata": {},
   "outputs": [
    {
     "data": {
      "image/png": "[encoded data removed]",
      "text/plain": [
       "<Figure size 640x480 with 3 Axes>"
      ]
     },
     "metadata": {},
     "output_type": "display_data"
    }
   ],
   "source": [
    "fig, axes = plt.subplots(3, 1, tight_layout=True, sharex=True)\n",
    "axes[0].set_title(\"Fit score\")\n",
    "axes[0].plot(range(2, 20), fit_scores)\n",
    "axes[1].set_title(\"Feasibility gap for A  (NN constraint)\")\n",
    "axes[1].plot(range(2, 20), A_gaps)\n",
    "axes[2].set_title(\"Feasibility gap for B_is (PF2 constraint)\")\n",
    "axes[2].plot(range(2, 20), B_gaps)\n",
    "axes[2].set_xlabel(\"No. components\")\n",
    "axes[2].set_xticks(range(2, 20))\n",
    "plt.show()"
   ]
  },
  {
   "cell_type": "code",
   "execution_count": null,
   "metadata": {},
   "outputs": [
    {
     "data": {
      "text/plain": [
       "[array([[ 1.76071628e-01,  1.91844194e+00,  2.00923107e+00,\n",
       "          7.86558211e-01,  1.95656320e+00,  4.31913434e-01,\n",
       "          1.82769197e+00,  1.36927143e+00,  1.45963461e+00,\n",
       "          1.80224154e+00,  5.19771001e-01,  1.63950561e+00,\n",
       "          1.90390761e+00,  1.33734594e+00,  3.17571202e-02,\n",
       "          2.12071571e+00,  5.55979217e-01,  1.84697568e+00,\n",
       "          1.91682097e+00],\n",
       "        [ 4.07706839e-01,  1.42498550e-01,  5.77287833e-02,\n",
       "          4.51489926e-01,  3.26415097e-02,  1.92231678e+00,\n",
       "          9.75744990e-03,  7.60790682e-03,  5.54113592e-02,\n",
       "          1.82911670e-02,  6.41408046e-01,  1.97814740e-02,\n",
       "          1.10862017e-01, -4.48795576e-02,  8.95014067e-01,\n",
       "          1.60284846e-02,  8.11098382e-01,  1.17745000e-02,\n",
       "          5.49246971e-02],\n",
       "        [ 3.48485855e-01,  1.45622549e-03, -1.30745355e-03,\n",
       "          2.42476288e-02, -7.43884602e-04,  1.16319009e-01,\n",
       "          1.53288984e-04, -1.30413692e-03, -2.03076453e-03,\n",
       "          1.23128860e-03,  7.60792305e-03, -4.05952582e-03,\n",
       "          3.46625109e-04,  1.03344307e-04,  6.37702763e-01,\n",
       "          9.17910147e-05,  2.55579943e-01,  3.60963207e-04,\n",
       "          3.02204049e-03]]),\n",
       " [array([[-8.62939836e-07,  6.06482399e-02,  4.17189611e-03, ...,\n",
       "          -3.39656619e-06, -5.09830998e-02, -5.27502354e-02],\n",
       "         [ 9.47661954e-07,  1.35342457e-02,  2.47500251e-03, ...,\n",
       "           4.63085920e-06,  2.75948112e-02,  6.34703139e-03],\n",
       "         [ 1.29982944e-06,  2.20789674e-02,  4.61358977e-06, ...,\n",
       "           1.34314120e-01,  2.10924973e-02,  6.22933025e-03],\n",
       "         ...,\n",
       "         [-1.32887879e-06, -4.86382424e-02,  4.39817153e-02, ...,\n",
       "          -6.49415838e-06,  2.11388311e-02, -8.16186007e-02],\n",
       "         [-1.54231064e-06,  1.19808933e-01, -3.00855226e-02, ...,\n",
       "          -2.45210425e-02, -2.43600912e-01,  7.23544444e-02],\n",
       "         [-1.09708407e-06, -1.07919798e-01,  3.63991190e-03, ...,\n",
       "          -4.56681823e-06,  1.88918450e-02, -9.14345001e-02]]),\n",
       "  array([[-1.69866378e-01,  2.38118994e-01,  4.02666962e-01, ...,\n",
       "           3.50563902e-01,  2.45619825e-05,  1.16143852e+00],\n",
       "         [-7.85279085e-01,  1.67135572e+00,  1.15149589e-05, ...,\n",
       "           2.29279238e-05,  2.75087252e-05,  2.85439954e-05],\n",
       "         [ 1.61318121e-06,  8.98002735e-06,  1.24185781e-02, ...,\n",
       "           7.16861664e-06,  3.61178319e-06, -1.66280852e-01],\n",
       "         ...,\n",
       "         [ 2.40253355e-06,  1.03627106e-05,  4.22514833e-06, ...,\n",
       "           8.69492867e-07,  4.11657479e-06,  3.58807284e-06],\n",
       "         [-1.13254494e-06, -4.98003675e-07, -3.42775686e-07, ...,\n",
       "          -4.93049009e-06, -7.21272439e-07, -5.18966206e-07],\n",
       "         [-8.25457573e-07, -6.84819095e-07, -1.01684585e-06, ...,\n",
       "          -2.81028103e-06, -1.77990245e-07, -3.44918034e-08]]),\n",
       "  array([[-1.91533501e-01, -2.65290654e-05, -3.12998504e-04, ...,\n",
       "          -7.52585318e-01, -5.84863814e-04, -8.35163386e-05],\n",
       "         [ 8.74630657e-05,  8.99437013e+00, -1.34193952e-05, ...,\n",
       "          -1.03234651e+00,  7.77413555e-04,  1.38994455e-03],\n",
       "         [ 9.45444803e-02,  7.77614227e-04, -7.82720047e-01, ...,\n",
       "           2.49929811e+00, -5.64655439e-03,  1.22332591e-01],\n",
       "         ...,\n",
       "         [ 2.91939688e-05, -6.75988548e-05,  4.33879567e-05, ...,\n",
       "           1.44589544e-05, -1.94019118e-04, -2.08547176e+00],\n",
       "         [ 5.44861274e-01, -2.46334613e-04,  5.53592466e-04, ...,\n",
       "           1.27322377e+00,  6.51332123e-05,  6.01819111e-04],\n",
       "         [ 2.60726764e-03, -1.51026459e-03, -1.26533207e-01, ...,\n",
       "          -1.02220275e+00, -6.94041457e-01, -8.57342595e-04]])],\n",
       " array([[ 0.41315778, -0.40377507,  2.53942145,  1.39216009, -2.07573282,\n",
       "          2.103516  ,  2.1281104 ,  3.72327019,  2.1041482 , -0.58439762,\n",
       "          1.08725795, -1.69959469,  0.26202308,  1.67867025,  1.09665173,\n",
       "         -2.63285801,  0.58598632,  2.47488397, -0.983469  ],\n",
       "        [ 0.19275034, -1.03996543,  2.80809429,  1.04591747,  1.35763286,\n",
       "          2.10773323, -1.66323853,  4.21933335,  0.10681581,  1.97330078,\n",
       "          0.98663185,  0.54803963,  2.9536877 ,  0.52962287,  0.72373229,\n",
       "          2.14000458,  0.55940041, -0.92771259, -1.11283708],\n",
       "        [ 0.24414724, -0.86121557,  0.62268841,  0.222033  , -0.94689788,\n",
       "          2.08354405,  2.34660342, -1.96979708,  1.04406605,  3.02540631,\n",
       "          0.99625644, -1.15026766,  4.19502917, -0.89502996,  0.68296687,\n",
       "          0.29867199,  0.57657812,  1.496453  ,  1.99178844],\n",
       "        [ 0.94462657, -1.74945656, -0.87488431,  0.73075439,  2.12923556,\n",
       "          2.11495812,  3.55488428,  2.37785791,  1.53509588, -2.74543347,\n",
       "          0.46879511,  1.3645161 ,  1.64753691,  0.13169101,  0.90003937,\n",
       "          1.20985316,  1.08249102, -0.96498996,  2.51608202],\n",
       "        [ 0.4398569 , -0.32352772, -2.03869333,  0.74079626, -0.89215169,\n",
       "          2.14231434,  1.96048437,  1.30612588,  1.24660954,  2.00160588,\n",
       "          0.58517128,  4.25583552,  0.46597528,  1.4002626 ,  1.11566648,\n",
       "          1.17906711,  1.16209215,  1.96117214, -3.06350652],\n",
       "        [ 0.30766708, -0.68549574, -0.77350836,  0.70876105, -1.49632701,\n",
       "          2.03844964, -3.39962717,  0.52025676,  2.96420128, -2.04557982,\n",
       "          0.83276035,  2.03740514,  2.60773929,  1.07640498,  0.81214848,\n",
       "          0.38256161,  1.22283988,  2.77206673,  1.11480469],\n",
       "        [ 0.76774018,  4.19406634,  1.22199653, -0.2670525 , -0.80689335,\n",
       "          2.09615251,  1.31666324,  0.49698799,  2.30822972, -0.84337094,\n",
       "          0.30213306,  0.14834626,  1.53088136,  0.67674619,  0.65707867,\n",
       "          2.40084468,  0.52121294, -0.88739271, -0.94018139],\n",
       "        [ 0.54233433,  2.65986074, -1.36603482, -0.10661228,  1.97562475,\n",
       "          2.19496424,  0.32974278,  2.66171892,  0.21574175,  0.87762491,\n",
       "          0.29417026, -1.42843809,  0.06065584, -1.13420516,  0.88953575,\n",
       "          2.19928085,  0.6333927 ,  3.51500854,  1.95126482],\n",
       "        [ 0.88172335,  2.22607793, -0.46092878,  0.35993492, -2.1279989 ,\n",
       "          2.17377772,  0.09118186,  3.04040319,  0.37172016,  1.75411368,\n",
       "          0.42257345,  2.12586089,  0.38802731,  2.02113878,  0.53620613,\n",
       "         -0.27115966,  0.64652561, -1.1021302 ,  3.82737898],\n",
       "        [ 0.95579601, -0.10470831,  1.56080061,  0.52876356,  1.18388901,\n",
       "          2.09144656, -0.03321089,  0.21660304,  4.45744037,  2.11398815,\n",
       "          0.38202178,  0.07075292, -2.37270739,  1.31471784,  0.71635252,\n",
       "          1.99068061,  0.95377837, -0.06514005,  1.83132106],\n",
       "        [ 0.19935277,  2.18059039, -2.17616607,  0.24656482,  2.96410784,\n",
       "          2.06691285, -0.51549388,  1.73632605,  2.99644869,  1.81346721,\n",
       "          0.16693571,  0.33273058,  1.51614895, -1.83738452,  0.29287988,\n",
       "         -2.28235177,  1.24145034, -1.22164666, -0.26562431],\n",
       "        [ 0.40193547,  1.72577628,  3.7696654 ,  0.7893619 ,  3.11685808,\n",
       "          2.09272065,  0.97296333, -0.44200853,  0.09053409, -0.13620763,\n",
       "          0.70439062,  3.68064319,  0.76579794,  1.59431208,  0.19871046,\n",
       "         -1.2476915 ,  1.55989226,  2.39388539,  1.30892244]])]"
      ]
     },
     "metadata": {},
     "output_type": "display_data"
    }
   ],
   "source": [
    "(selected_cmf.factors)"
   ]
  },
  {
   "cell_type": "code",
   "execution_count": null,
   "metadata": {},
   "outputs": [
    {
     "name": "stdout",
     "output_type": "stream",
     "text": [
      "Factor match score: 1.0000000000000362\n"
     ]
    }
   ],
   "source": [
    "def get_stacked_CP_tensor(cmf):\n",
    "    weights, factors = cmf\n",
    "    A, B_is, C = factors\n",
    "\n",
    "    stacked_cp_tensor = (weights, (A, np.concatenate(B_is, axis=0), C))\n",
    "    return stacked_cp_tensor\n",
    "\n",
    "\n",
    "fms, permutation = factor_match_score(\n",
    "    get_stacked_CP_tensor(cmf), get_stacked_CP_tensor(selected_cmf), consider_weights=False, return_permutation=True\n",
    ")\n",
    "print(f\"Factor match score: {fms}\")"
   ]
  },
  {
   "cell_type": "code",
   "execution_count": null,
   "metadata": {},
   "outputs": [
    {
     "name": "stdout",
     "output_type": "stream",
     "text": [
      "Data saved successfully.\n"
     ]
    }
   ],
   "source": [
    "# Function to save lists to CSV files\n",
    "def save_to_csv(filename, data, header):\n",
    "    with open(filename, mode='w', newline='') as file:\n",
    "        writer = csv.writer(file)\n",
    "        writer.writerow(header)  # Add headers if needed\n",
    "        writer.writerows([[value] for value in data])  # Write each value in a new row\n",
    "\n",
    "# Saving the lists to CSV files\n",
    "save_to_csv('fit_scores.csv', fit_scores, ['Fit Scores'])\n",
    "save_to_csv('B_gaps.csv', B_gaps, ['B Gaps'])\n",
    "save_to_csv('A_gaps.csv', A_gaps, ['A Gaps'])\n",
    "\n",
    "# Saving selected_cmf, selected_diagnostics, and lowest_error with pickle\n",
    "with open('selected_data.pkl', 'wb') as file:\n",
    "    pickle.dump({\n",
    "        'selected_cmf': selected_cmf,\n",
    "        'selected_diagnostics': selected_diagnostics,\n",
    "        'lowest_error': lowest_error\n",
    "    }, file)\n",
    "\n",
    "print(\"Data saved successfully.\")\n"
   ]
  },
  {
   "cell_type": "code",
   "execution_count": 8,
   "metadata": {},
   "outputs": [
    {
     "name": "stdout",
     "output_type": "stream",
     "text": [
      "Data loaded successfully.\n"
     ]
    }
   ],
   "source": [
    "# Function to load lists from CSV files\n",
    "def load_from_csv(filename):\n",
    "    data = []\n",
    "    with open(filename, mode='r') as file:\n",
    "        reader = csv.reader(file)\n",
    "        next(reader)  # Skip the header row\n",
    "        for row in reader:\n",
    "            data.append(row[0])  # Assuming one value per row\n",
    "    return data\n",
    "\n",
    "# Reloading the data from CSV files\n",
    "fit_scores = load_from_csv('fit_scores.csv')\n",
    "B_gaps = load_from_csv('B_gaps.csv')\n",
    "A_gaps = load_from_csv('A_gaps.csv')\n",
    "\n",
    "# Reloading selected_data from pickle file\n",
    "with open('selected_data.pkl', 'rb') as file:\n",
    "    selected_data = pickle.load(file)\n",
    "    selected_cmf = selected_data['selected_cmf']\n",
    "    selected_diagnostics = selected_data['selected_diagnostics']\n",
    "    lowest_error = selected_data['lowest_error']\n",
    "\n",
    "print(\"Data loaded successfully.\")"
   ]
  },
  {
   "cell_type": "code",
   "execution_count": 9,
   "metadata": {},
   "outputs": [
    {
     "name": "stderr",
     "output_type": "stream",
     "text": [
      "/opt/homebrew/lib/python3.11/site-packages/IPython/core/pylabtools.py:152: MatplotlibDeprecationWarning: savefig() got unexpected keyword argument \"orientation\" which is no longer supported as of 3.3 and will become an error two minor releases later\n",
      "  fig.canvas.print_figure(bytes_io, **kw)\n",
      "/opt/homebrew/lib/python3.11/site-packages/IPython/core/pylabtools.py:152: MatplotlibDeprecationWarning: savefig() got unexpected keyword argument \"dpi\" which is no longer supported as of 3.3 and will become an error two minor releases later\n",
      "  fig.canvas.print_figure(bytes_io, **kw)\n",
      "/opt/homebrew/lib/python3.11/site-packages/IPython/core/pylabtools.py:152: MatplotlibDeprecationWarning: savefig() got unexpected keyword argument \"facecolor\" which is no longer supported as of 3.3 and will become an error two minor releases later\n",
      "  fig.canvas.print_figure(bytes_io, **kw)\n",
      "/opt/homebrew/lib/python3.11/site-packages/IPython/core/pylabtools.py:152: MatplotlibDeprecationWarning: savefig() got unexpected keyword argument \"edgecolor\" which is no longer supported as of 3.3 and will become an error two minor releases later\n",
      "  fig.canvas.print_figure(bytes_io, **kw)\n",
      "/opt/homebrew/lib/python3.11/site-packages/IPython/core/pylabtools.py:152: MatplotlibDeprecationWarning: savefig() got unexpected keyword argument \"bbox_inches_restore\" which is no longer supported as of 3.3 and will become an error two minor releases later\n",
      "  fig.canvas.print_figure(bytes_io, **kw)\n"
     ]
    },
    {
     "data": {
      "image/png": "[encoded data removed]",
      "text/plain": [
       "<Figure size 640x480 with 1 Axes>"
      ]
     },
     "metadata": {},
     "output_type": "display_data"
    }
   ],
   "source": [
    "fig, ax = plt.subplots(tight_layout=True)\n",
    "ax.semilogy(selected_diagnostics.rec_errors)\n",
    "plt.xlabel(\"Iteration\")\n",
    "plt.ylabel(\"Relative normed error (2-norm)\")\n",
    "plt.show()"
   ]
  },
  {
   "cell_type": "code",
   "execution_count": 10,
   "metadata": {},
   "outputs": [
    {
     "data": {
      "text/plain": [
       "[array([[ 1.76071628e-01,  1.91844194e+00,  2.00923107e+00,\n",
       "          7.86558211e-01,  1.95656320e+00,  4.31913434e-01,\n",
       "          1.82769197e+00,  1.36927143e+00,  1.45963461e+00,\n",
       "          1.80224154e+00,  5.19771001e-01,  1.63950561e+00,\n",
       "          1.90390761e+00,  1.33734594e+00,  3.17571202e-02,\n",
       "          2.12071571e+00,  5.55979217e-01,  1.84697568e+00,\n",
       "          1.91682097e+00],\n",
       "        [ 4.07706839e-01,  1.42498550e-01,  5.77287833e-02,\n",
       "          4.51489926e-01,  3.26415097e-02,  1.92231678e+00,\n",
       "          9.75744990e-03,  7.60790682e-03,  5.54113592e-02,\n",
       "          1.82911670e-02,  6.41408046e-01,  1.97814740e-02,\n",
       "          1.10862017e-01, -4.48795576e-02,  8.95014067e-01,\n",
       "          1.60284846e-02,  8.11098382e-01,  1.17745000e-02,\n",
       "          5.49246971e-02],\n",
       "        [ 3.48485855e-01,  1.45622549e-03, -1.30745355e-03,\n",
       "          2.42476288e-02, -7.43884602e-04,  1.16319009e-01,\n",
       "          1.53288984e-04, -1.30413692e-03, -2.03076453e-03,\n",
       "          1.23128860e-03,  7.60792305e-03, -4.05952582e-03,\n",
       "          3.46625109e-04,  1.03344307e-04,  6.37702763e-01,\n",
       "          9.17910147e-05,  2.55579943e-01,  3.60963207e-04,\n",
       "          3.02204049e-03]]),\n",
       " [array([[-8.62939836e-07,  6.06482399e-02,  4.17189611e-03, ...,\n",
       "          -3.39656619e-06, -5.09830998e-02, -5.27502354e-02],\n",
       "         [ 9.47661954e-07,  1.35342457e-02,  2.47500251e-03, ...,\n",
       "           4.63085920e-06,  2.75948112e-02,  6.34703139e-03],\n",
       "         [ 1.29982944e-06,  2.20789674e-02,  4.61358977e-06, ...,\n",
       "           1.34314120e-01,  2.10924973e-02,  6.22933025e-03],\n",
       "         ...,\n",
       "         [-1.32887879e-06, -4.86382424e-02,  4.39817153e-02, ...,\n",
       "          -6.49415838e-06,  2.11388311e-02, -8.16186007e-02],\n",
       "         [-1.54231064e-06,  1.19808933e-01, -3.00855226e-02, ...,\n",
       "          -2.45210425e-02, -2.43600912e-01,  7.23544444e-02],\n",
       "         [-1.09708407e-06, -1.07919798e-01,  3.63991190e-03, ...,\n",
       "          -4.56681823e-06,  1.88918450e-02, -9.14345001e-02]]),\n",
       "  array([[-1.69866378e-01,  2.38118994e-01,  4.02666962e-01, ...,\n",
       "           3.50563902e-01,  2.45619825e-05,  1.16143852e+00],\n",
       "         [-7.85279085e-01,  1.67135572e+00,  1.15149589e-05, ...,\n",
       "           2.29279238e-05,  2.75087252e-05,  2.85439954e-05],\n",
       "         [ 1.61318121e-06,  8.98002735e-06,  1.24185781e-02, ...,\n",
       "           7.16861664e-06,  3.61178319e-06, -1.66280852e-01],\n",
       "         ...,\n",
       "         [ 2.40253355e-06,  1.03627106e-05,  4.22514833e-06, ...,\n",
       "           8.69492867e-07,  4.11657479e-06,  3.58807284e-06],\n",
       "         [-1.13254494e-06, -4.98003675e-07, -3.42775686e-07, ...,\n",
       "          -4.93049009e-06, -7.21272439e-07, -5.18966206e-07],\n",
       "         [-8.25457573e-07, -6.84819095e-07, -1.01684585e-06, ...,\n",
       "          -2.81028103e-06, -1.77990245e-07, -3.44918034e-08]]),\n",
       "  array([[-1.91533501e-01, -2.65290654e-05, -3.12998504e-04, ...,\n",
       "          -7.52585318e-01, -5.84863814e-04, -8.35163386e-05],\n",
       "         [ 8.74630657e-05,  8.99437013e+00, -1.34193952e-05, ...,\n",
       "          -1.03234651e+00,  7.77413555e-04,  1.38994455e-03],\n",
       "         [ 9.45444803e-02,  7.77614227e-04, -7.82720047e-01, ...,\n",
       "           2.49929811e+00, -5.64655439e-03,  1.22332591e-01],\n",
       "         ...,\n",
       "         [ 2.91939688e-05, -6.75988548e-05,  4.33879567e-05, ...,\n",
       "           1.44589544e-05, -1.94019118e-04, -2.08547176e+00],\n",
       "         [ 5.44861274e-01, -2.46334613e-04,  5.53592466e-04, ...,\n",
       "           1.27322377e+00,  6.51332123e-05,  6.01819111e-04],\n",
       "         [ 2.60726764e-03, -1.51026459e-03, -1.26533207e-01, ...,\n",
       "          -1.02220275e+00, -6.94041457e-01, -8.57342595e-04]])],\n",
       " array([[ 0.41315778, -0.40377507,  2.53942145,  1.39216009, -2.07573282,\n",
       "          2.103516  ,  2.1281104 ,  3.72327019,  2.1041482 , -0.58439762,\n",
       "          1.08725795, -1.69959469,  0.26202308,  1.67867025,  1.09665173,\n",
       "         -2.63285801,  0.58598632,  2.47488397, -0.983469  ],\n",
       "        [ 0.19275034, -1.03996543,  2.80809429,  1.04591747,  1.35763286,\n",
       "          2.10773323, -1.66323853,  4.21933335,  0.10681581,  1.97330078,\n",
       "          0.98663185,  0.54803963,  2.9536877 ,  0.52962287,  0.72373229,\n",
       "          2.14000458,  0.55940041, -0.92771259, -1.11283708],\n",
       "        [ 0.24414724, -0.86121557,  0.62268841,  0.222033  , -0.94689788,\n",
       "          2.08354405,  2.34660342, -1.96979708,  1.04406605,  3.02540631,\n",
       "          0.99625644, -1.15026766,  4.19502917, -0.89502996,  0.68296687,\n",
       "          0.29867199,  0.57657812,  1.496453  ,  1.99178844],\n",
       "        [ 0.94462657, -1.74945656, -0.87488431,  0.73075439,  2.12923556,\n",
       "          2.11495812,  3.55488428,  2.37785791,  1.53509588, -2.74543347,\n",
       "          0.46879511,  1.3645161 ,  1.64753691,  0.13169101,  0.90003937,\n",
       "          1.20985316,  1.08249102, -0.96498996,  2.51608202],\n",
       "        [ 0.4398569 , -0.32352772, -2.03869333,  0.74079626, -0.89215169,\n",
       "          2.14231434,  1.96048437,  1.30612588,  1.24660954,  2.00160588,\n",
       "          0.58517128,  4.25583552,  0.46597528,  1.4002626 ,  1.11566648,\n",
       "          1.17906711,  1.16209215,  1.96117214, -3.06350652],\n",
       "        [ 0.30766708, -0.68549574, -0.77350836,  0.70876105, -1.49632701,\n",
       "          2.03844964, -3.39962717,  0.52025676,  2.96420128, -2.04557982,\n",
       "          0.83276035,  2.03740514,  2.60773929,  1.07640498,  0.81214848,\n",
       "          0.38256161,  1.22283988,  2.77206673,  1.11480469],\n",
       "        [ 0.76774018,  4.19406634,  1.22199653, -0.2670525 , -0.80689335,\n",
       "          2.09615251,  1.31666324,  0.49698799,  2.30822972, -0.84337094,\n",
       "          0.30213306,  0.14834626,  1.53088136,  0.67674619,  0.65707867,\n",
       "          2.40084468,  0.52121294, -0.88739271, -0.94018139],\n",
       "        [ 0.54233433,  2.65986074, -1.36603482, -0.10661228,  1.97562475,\n",
       "          2.19496424,  0.32974278,  2.66171892,  0.21574175,  0.87762491,\n",
       "          0.29417026, -1.42843809,  0.06065584, -1.13420516,  0.88953575,\n",
       "          2.19928085,  0.6333927 ,  3.51500854,  1.95126482],\n",
       "        [ 0.88172335,  2.22607793, -0.46092878,  0.35993492, -2.1279989 ,\n",
       "          2.17377772,  0.09118186,  3.04040319,  0.37172016,  1.75411368,\n",
       "          0.42257345,  2.12586089,  0.38802731,  2.02113878,  0.53620613,\n",
       "         -0.27115966,  0.64652561, -1.1021302 ,  3.82737898],\n",
       "        [ 0.95579601, -0.10470831,  1.56080061,  0.52876356,  1.18388901,\n",
       "          2.09144656, -0.03321089,  0.21660304,  4.45744037,  2.11398815,\n",
       "          0.38202178,  0.07075292, -2.37270739,  1.31471784,  0.71635252,\n",
       "          1.99068061,  0.95377837, -0.06514005,  1.83132106],\n",
       "        [ 0.19935277,  2.18059039, -2.17616607,  0.24656482,  2.96410784,\n",
       "          2.06691285, -0.51549388,  1.73632605,  2.99644869,  1.81346721,\n",
       "          0.16693571,  0.33273058,  1.51614895, -1.83738452,  0.29287988,\n",
       "         -2.28235177,  1.24145034, -1.22164666, -0.26562431],\n",
       "        [ 0.40193547,  1.72577628,  3.7696654 ,  0.7893619 ,  3.11685808,\n",
       "          2.09272065,  0.97296333, -0.44200853,  0.09053409, -0.13620763,\n",
       "          0.70439062,  3.68064319,  0.76579794,  1.59431208,  0.19871046,\n",
       "         -1.2476915 ,  1.55989226,  2.39388539,  1.30892244]])]"
      ]
     },
     "execution_count": 10,
     "metadata": {},
     "output_type": "execute_result"
    }
   ],
   "source": [
    "selected_cmf.factors"
   ]
  },
  {
   "cell_type": "code",
   "execution_count": null,
   "metadata": {},
   "outputs": [
    {
     "data": {
      "text/plain": [
       "((weights, factors) : rank-19 CoupledMatrixFactorization of shape ((414234, 12), (26210, 12), (137, 12)),\n",
       " DiagnosticMetrics(rec_errors=[2.2333933610902155, 0.7586362462181986, 0.5775249369979807, 0.47315749473921287, 0.39694979606284714, 0.33842518958249856, 0.2783856554652124, 0.21475014236148235, 0.16304391337643911, 0.1292338910349839, 0.10623764643770402, 0.08857741568782088, 0.07463063686561602, 0.06409330698903813, 0.05653877486506196, 0.05127751039349065, 0.04761067463357238, 0.04501081479044014, 0.04312157896435775, 0.04171266246727622, 0.040634514105042374, 0.039789994134678215, 0.039112175926935146, 0.03855675227901726, 0.03809267804412693, 0.03769721991159527, 0.0373549120522397, 0.03705473146536466, 0.03678788259885789, 0.03654706759872371, 0.03632774556017861, 0.036125898144666616, 0.0359386526873889, 0.0357633895366482, 0.03559801003996545, 0.03544092064161422, 0.03529100650137721, 0.03514725334447479, 0.03500863913122106, 0.03487483846076945, 0.03474508846330957, 0.03461901079770315, 0.03449625316711532, 0.03437613108614997, 0.0342584655265306, 0.03414315511213803, 0.034029867423313535, 0.03391857989578913, 0.03380891825473575, 0.03370096066609025, 0.033594423984842726, 0.033489164153944026, 0.033384869587483865, 0.03328210182626215, 0.03318053129433046, 0.03307985246082172, 0.03298020039215233, 0.03288150785794786, 0.03278374835956344, 0.03268684290213022, 0.03259100570255719, 0.032496042299545176, 0.032401770843035076, 0.032308144984754164, 0.03221523522470799, 0.03212282853950343, 0.03203107820851794, 0.03193977957582363, 0.03184902540392958, 0.031758809271204905, 0.031669233492261674, 0.03158041369162294, 0.03149206869956804, 0.0314044757542827, 0.031317475426671605, 0.03123143251163017, 0.031146091100613275, 0.031061624179896483, 0.03097771314433593, 0.030894638203671658, 0.030812181411891806, 0.030730345535758354, 0.030649097389252717, 0.030568655756490676, 0.03048890696620092, 0.03040983108236988, 0.030331354040565382, 0.030253558210275536, 0.030176401051139442, 0.03010000557109373, 0.03002441353821563, 0.029949456009703217, 0.02987509798792557, 0.02980149385981849, 0.02972856011187887, 0.02965632716962105, 0.029584860911370123, 0.02951408104286159, 0.029444041938888964, 0.02937467228759181, 0.02930593056952133], feasibility_gaps=[([0.7125960013146125], [0.9999685387570479, 0.707300051851691], [0.7064806937574656]), ([5.207678484955397e-07], [0.6190981156078067, 0.06433003956148764], [1.3101332969649624e-06]), ([2.155679130094755e-17], [0.1774128372989511, 0.011230603784428623], [1.5619389905482264e-06]), ([4.1127213347188675e-17], [0.1395954764219272, 0.004401701523350604], [4.397941560065077e-07]), ([1.0039733690412394e-07], [0.1193060097270805, 0.0033310625219849068], [6.210948345255448e-07]), ([2.3934716037455248e-18], [0.05259653545937837, 0.0030836231597645564], [3.1793732206144067e-07]), ([1.8715242742391702e-17], [0.007327272834797657, 0.0023901865450733375], [3.076296386559481e-18]), ([2.8688233396875026e-19], [0.0027545436169493683, 0.0021879103893681284], [1.2173613927630864e-17]), ([1.1667980378102744e-18], [0.0025634399695941444, 0.0020240562514311834], [2.3368269872858402e-17]), ([0.0], [0.002620106076276959, 0.001594178049531463], [1.3230516901905872e-17]), ([0.0], [0.0027813315298969615, 0.0014764594088082865], [1.1395003139737933e-17]), ([1.1081537021115848e-18], [0.0027466975707036998, 0.0013030744185069654], [0.0]), ([0.0], [0.00244645449800787, 0.0010623626044799538], [0.0]), ([0.0], [0.0020269810994249715, 0.0010602633307594594], [0.0]), ([6.84986703383489e-20], [0.0015917582934122257, 0.0009060675615224687], [0.0]), ([3.415960954108464e-20], [0.001289577700635699, 0.0008951418501054391], [0.0]), ([0.0], [0.0010899440574726582, 0.0008044827448457652], [0.0]), ([6.952744863661735e-08], [0.0009317261743028359, 0.0008679822452639686], [0.0]), ([6.955725976397133e-08], [0.0008135703164057875, 0.0007884825947406635], [0.0]), ([0.0], [0.0007420556716762241, 0.0007466302333113922], [0.0]), ([2.113497184896257e-21], [0.0006923910786110741, 0.0006671391682854379], [0.0]), ([1.687873594169682e-20], [0.0006334283199548853, 0.0007289662635426394], [0.0]), ([0.0], [0.0005929101695021274, 0.0006618424698378149], [0.0]), ([0.0], [0.0005768336035933793, 0.0006680841754771797], [2.1409849919138634e-17]), ([0.0], [0.0005527383684783253, 0.0006469854247142202], [0.0]), ([0.0], [0.0005323860537298355, 0.0006682419735360564], [0.0]), ([0.0], [0.0005067831566621431, 0.0005997995191973199], [0.0]), ([1.671819423003702e-20], [0.0005005187765660822, 0.0005911749069503335], [0.0]), ([0.0], [0.00046951834428263006, 0.000620257461196696], [2.05424437865357e-20]), ([1.6668496677075234e-20], [0.0004805323150620933, 0.0005145872916540234], [0.0]), ([0.0], [0.00043329000850162184, 0.0005848959542880426], [8.161105020132008e-20]), ([0.0], [0.00044966479023430064, 0.0005125980301514319], [8.133667943873527e-20]), ([0.0], [0.0004293757485346249, 0.0005205841092820347], [5.188190861683928e-18]), ([0.0], [0.0004208617482853104, 0.0006001766589763675], [0.0]), ([3.3099837585876506e-20], [0.0004525824030645108, 0.0005447231314967709], [2.6077414851102677e-07]), ([0.0], [0.0004276985107355197, 0.00054350740340503], [0.0]), ([0.0], [0.0004292637386937699, 0.00047043246162065675], [0.0]), ([3.296399509080827e-20], [0.000398455676802822, 0.0004853631769694159], [0.0]), ([0.0], [0.0003680415445376184, 0.000496148754744863], [1.5900002247404797e-19]), ([0.0], [0.00038618908689003954, 0.0005069999975401015], [0.0]), ([0.0], [0.0003808574392489877, 0.00040651895683715023], [0.0]), ([0.0], [0.00037284005815092086, 0.0005224081149227652], [0.0]), ([0.0], [0.0003671590323502255, 0.00046474504200694504], [0.0]), ([0.0], [0.0003601425304534352, 0.00042367254423792154], [0.0]), ([0.0], [0.000372499314429413, 0.00040935651951257146], [0.0]), ([0.0], [0.00036649808941840496, 0.0004297781759191838], [0.0]), ([0.0], [0.00034357780497758136, 0.00046293446240128515], [1.9389355380943164e-20]), ([0.0], [0.00034444473804680586, 0.00043557291340750784], [0.0]), ([5.077768827725405e-22], [0.00033358599470812426, 0.00037553882493923625], [0.0]), ([0.0], [0.00035956924626297877, 0.00032647370238635115], [1.5373299769907216e-19]), ([0.0], [0.0003487268815085454, 0.00036618919390660166], [0.0]), ([2.5295178769379003e-22], [0.00033964209876504136, 0.00034364497852514594], [0.0]), ([0.0], [0.0003149957884006215, 0.00035957277288678236], [0.0]), ([0.0], [0.00029326993611644106, 0.0003182999596541425], [0.0]), ([6.300905719792817e-23], [0.00031653619183755205, 0.0003165753821301118], [0.0]), ([0.0], [0.00029729070201727414, 0.00031190942605510897], [0.0]), ([6.285922909083782e-23], [0.0003088634450266698, 0.0003351333949744899], [0.0]), ([0.0], [0.0003155069113725473, 0.00035662248106829145], [0.0]), ([0.0], [0.00029527093480406536, 0.0003325431624455184], [0.0]), ([0.0], [0.00032552172761839257, 0.00037139008327725015], [5.975434528389854e-19]), ([0.0], [0.0003035671211325414, 0.00035461527108140414], [0.0]), ([0.0], [0.00029607749583834646, 0.0003514999513753097], [1.901570206904081e-17]), ([0.0], [0.0002868091889546026, 0.00029066234013925565], [0.0]), ([0.0], [0.0003187440862347408, 0.000351648296607553], [0.0]), ([0.0], [0.0003067815746114973, 0.00030719375712190904], [0.0]), ([0.0], [0.0002695294499703562, 0.000314211210323509], [0.0]), ([0.0], [0.0002859859813971388, 0.00022894335862075425], [2.6145863592304276e-07]), ([0.0], [0.0002695123925310463, 0.00025484931985502585], [9.135151414890464e-21]), ([0.0], [0.00028419875051056634, 0.0002676699749641165], [0.0]), ([0.0], [0.00026791167818837516, 0.0003205792954487626], [0.0]), ([0.0], [0.00026266844518653816, 0.00028471925659682545], [1.1600453500978392e-18]), ([0.0], [0.0002748076791246626, 0.0002612393926837357], [0.0]), ([0.0], [0.00023773653275093042, 0.00022373748422406772], [0.0]), ([0.0], [0.000258734021770131, 0.00026586906928928965], [0.0]), ([7.884498061593667e-21], [0.00025990374364555797, 0.00027139580017135757], [0.0]), ([4.0325382060050194e-18], [0.00026682213530382115, 0.000328252506375457], [0.0]), ([0.0], [0.0002534495179371642, 0.000222487387512298], [0.0]), ([0.0], [0.00022359001231189737, 0.0001965558904345109], [0.0]), ([0.0], [0.0002289332781386311, 0.0002199102283765901], [0.0]), ([0.0], [0.00024377779766557637, 0.00019079887578345083], [7.084506034662947e-20]), ([7.89552204607435e-21], [0.000236104995593397, 0.00021974264495309084], [0.0]), ([0.0], [0.00022880845637072894, 0.00023068947107062474], [0.0]), ([0.0], [0.00023933524104433485, 0.0002595201853741115], [1.648043698493451e-21]), ([0.0], [0.00025072469469863566, 0.00023374235488863817], [0.0]), ([0.0], [0.00022621973609814137, 0.00023409497920689361], [0.0]), ([0.0], [0.0002199615825011337, 0.00016681794737177642], [0.0]), ([0.0], [0.00020810072685615804, 0.00014233125078674843], [0.0]), ([0.0], [0.00022674679409371613, 0.0001606032574922231], [0.0]), ([0.0], [0.0002466025075154766, 0.00019320579796217345], [0.0]), ([0.0], [0.000217355112749849, 0.00023029592390860838], [0.0]), ([0.0], [0.00020755838306319596, 0.00022294990479092738], [0.0]), ([0.0], [0.00020482275030193295, 0.00026143811230078766], [0.0]), ([0.0], [0.00019231180483198843, 0.0001704238583575505], [0.0]), ([0.0], [0.0001954985195493879, 0.00019375276098636648], [0.0]), ([0.0], [0.00020745678433409682, 0.00025380070504799025], [0.0]), ([0.0], [0.00022548579236403052, 0.00017267634195112754], [0.0]), ([1.2334796099201472e-19], [0.0002285219819058085, 0.00023274027316750294], [0.0]), ([0.0], [0.00020295002859585832, 0.00014507710203150664], [0.0]), ([0.0], [0.00019836168461587078, 0.00014168012303534297], [0.0]), ([0.0], [0.00018273670385295437, 0.00012282820288125955], [0.0]), ([0.0], [0.00019089903943532297, 0.0001404286180709344], [0.0])], regularized_loss=[837059.6890193109, 96132.35686506382, 109964.14974957441, 111842.73659103249, 112253.52633255234, 112101.17322598989, 111845.9806658685, 111572.560847519, 111067.03647653855, 110263.94036498068, 109305.6710155365, 108296.2298382839, 107263.65578468554, 106209.22371739184, 105143.12447092138, 104078.81479520824, 103027.67522573454, 101996.62434410716, 100989.71903710121, 100007.15044185081, 99048.72702372468, 98114.47361444515, 97204.36099276492, 96317.56085202524, 95453.16114155589, 94610.45086205582, 93788.08502702166, 92985.52846348127, 92201.73212213592, 91436.08051087824, 90687.23816507569, 89955.30668387737, 89239.2692301224, 88538.70666938767, 87853.24565902502, 87182.44063108775, 86525.51914309808, 85881.81586495959, 85250.63407977091, 84631.79391174308, 84024.56908884156, 83428.79860249885, 82844.44079922921, 82270.92546643957, 81707.7571329565, 81154.5616567584, 80611.21486249323, 80077.75203808735, 79553.52914497622, 79038.15056926176, 78531.31182986697, 78032.88696307091, 77542.39056029, 77059.72741791903, 76584.81656622062, 76117.393706933, 75657.32931499563, 75204.58101346243, 74758.80839667328, 74320.02113801817, 73887.60161728082, 73461.69893635224, 73042.19509570484, 72629.01641405949, 72221.49416130122, 71819.8357581737, 71423.80518416788, 71033.20751991702, 70647.92402874629, 70267.8837131753, 69893.09722706693, 69523.32014188211, 69158.29391883344, 68798.18148254199, 68442.64934147157, 68091.80170002769, 67745.36002478408, 67403.32749070738, 67065.61214190024, 66732.01311837976, 66402.50151772247, 66076.92107071201, 65755.37802303146, 65437.91490018079, 65124.32417184037, 64814.33886526395, 64507.91886069336, 64204.98108258716, 63905.445524368944, 63609.34256815626, 63316.50455556203, 63026.964558982436, 62740.65337392671, 62457.58182052948, 62177.78088569628, 61901.01023165813, 61627.410336131485, 61356.66694838269, 61088.84041863106, 60823.7787000171, 60561.65466768407], satisfied_stopping_condition=False, satisfied_feasibility_condition=False, n_iter=100, message='MAXIMUM NUMBER OF ITERATIONS REACHED'),\n",
       " 60561.65466768407)"
      ]
     },
     "execution_count": 11,
     "metadata": {},
     "output_type": "execute_result"
    }
   ],
   "source": [
    "selected_cmf, selected_diagnostics, lowest_error"
   ]
  },
  {
   "cell_type": "code",
   "execution_count": 55,
   "metadata": {},
   "outputs": [],
   "source": [
    "# selected_cmf, rrbs_indices, rna_indices, metabo_indices, rrbs_matrix_filtered\n",
    "# Load indices\n",
    "rrbs_indices = pd.read_csv(\"rrbs_indices.csv\", index_col=0)\n",
    "rna_indices = pd.read_csv(\"rna_indices.csv\", index_col=0)\n",
    "metabo_indices = pd.read_csv(\"metabo_indices.csv\", index_col=0)\n",
    "\n",
    "# Decompose the selected CMF into weights and factor matrices\n",
    "weights, (A, B_is, C) = selected_cmf\n",
    "if weights is None:\n",
    "    weights = np.ones(A.shape[1])  # Default to uniform weights if not provided\n",
    "\n",
    "# Calculate norms and order components\n",
    "norms = (\n",
    "    np.linalg.norm(A, axis=0)\n",
    "    * np.linalg.norm(B_is[0], axis=0)\n",
    "    * np.linalg.norm(C, axis=0)\n",
    ")\n",
    "order = np.argsort(-weights * norms)  # Order components by weighted norms (descending)\n",
    "\n",
    "# Process matrices A, B_is, and C\n",
    "A = pd.DataFrame(\n",
    "    np.maximum(0, A[:, order]),\n",
    "    index=[\"RRBS\", \"RNA-seq\", \"Metabolomics\"],\n",
    "    columns=[f\"{i+1}\" for i in range(A.shape[1])]\n",
    ")\n",
    "\n",
    "B_is = [\n",
    "    pd.DataFrame(\n",
    "        np.maximum(0, B_is[0][:, order]),\n",
    "        index=rrbs_indices,\n",
    "        columns=[f\"{i+1}\" for i in range(B_is[0].shape[1])]\n",
    "    ),\n",
    "    pd.DataFrame(\n",
    "        np.maximum(0, B_is[1][:, order]),\n",
    "        index=rna_indices,\n",
    "        columns=[f\"{i+1}\" for i in range(B_is[1].shape[1])]\n",
    "    ),\n",
    "    pd.DataFrame(\n",
    "        np.maximum(0, B_is[2][:, order]),\n",
    "        index=metabo_indices,\n",
    "        columns=[f\"{i+1}\" for i in range(B_is[2].shape[1])]\n",
    "    ),\n",
    "]\n",
    "\n",
    "C = pd.DataFrame(\n",
    "    np.maximum(0, C[:, order]),\n",
    "    index=rrbs_matrix_filtered.columns,\n",
    "    columns=[f\"{i+1}\" for i in range(C.shape[1])]\n",
    ")\n"
   ]
  },
  {
   "cell_type": "code",
   "execution_count": 74,
   "metadata": {},
   "outputs": [
    {
     "data": {
      "application/vnd.plotly.v1+json": {
       "config": {
        "plotlyServerURL": "https://plot.ly"
       },
       "data": [
        {
         "hovertemplate": "Component=1<br>Samples=%{x}<br>Value=%{y}<extra></extra>",
         "legendgroup": "1",
         "line": {
          "color": "#636efa",
          "dash": "solid"
         },
         "marker": {
          "symbol": "circle"
         },
         "mode": "lines",
         "name": "1",
         "orientation": "v",
         "showlegend": true,
         "type": "scatter",
         "x": [
          "ESCs0uM_REP1",
          "ESCs0uM_REP2",
          "ESCs0uM_REP3",
          "ESCs1uM_REP1",
          "ESCs1uM_REP2",
          "ESCs1uM_REP3",
          "EpiLCs0nM_REP1",
          "EpiLCs0nM_REP2",
          "EpiLCs0nM_REP3",
          "EpiLCs1uM_REP1",
          "EpiLCs1uM_REP2",
          "EpiLCs1uM_REP3"
         ],
         "xaxis": "x",
         "y": [
          0,
          0,
          0,
          0,
          0,
          0,
          4.194066338746,
          2.659860735208682,
          2.22607793054661,
          0,
          2.180590389950153,
          1.725776284992942
         ],
         "yaxis": "y"
        },
        {
         "hovertemplate": "Component=2<br>Samples=%{x}<br>Value=%{y}<extra></extra>",
         "legendgroup": "2",
         "line": {
          "color": "#EF553B",
          "dash": "solid"
         },
         "marker": {
          "symbol": "circle"
         },
         "mode": "lines",
         "name": "2",
         "orientation": "v",
         "showlegend": true,
         "type": "scatter",
         "x": [
          "ESCs0uM_REP1",
          "ESCs0uM_REP2",
          "ESCs0uM_REP3",
          "ESCs1uM_REP1",
          "ESCs1uM_REP2",
          "ESCs1uM_REP3",
          "EpiLCs0nM_REP1",
          "EpiLCs0nM_REP2",
          "EpiLCs0nM_REP3",
          "EpiLCs1uM_REP1",
          "EpiLCs1uM_REP2",
          "EpiLCs1uM_REP3"
         ],
         "xaxis": "x",
         "y": [
          2.1041481999549663,
          0.10681580717945115,
          1.0440660453187933,
          1.5350958796851837,
          1.2466095353568376,
          2.964201282708397,
          2.3082297192305985,
          0.21574175001019463,
          0.3717201575041957,
          4.45744037376224,
          2.996448689003766,
          0.09053408808881087
         ],
         "yaxis": "y"
        },
        {
         "hovertemplate": "Component=3<br>Samples=%{x}<br>Value=%{y}<extra></extra>",
         "legendgroup": "3",
         "line": {
          "color": "#00cc96",
          "dash": "solid"
         },
         "marker": {
          "symbol": "circle"
         },
         "mode": "lines",
         "name": "3",
         "orientation": "v",
         "showlegend": true,
         "type": "scatter",
         "x": [
          "ESCs0uM_REP1",
          "ESCs0uM_REP2",
          "ESCs0uM_REP3",
          "ESCs1uM_REP1",
          "ESCs1uM_REP2",
          "ESCs1uM_REP3",
          "EpiLCs0nM_REP1",
          "EpiLCs0nM_REP2",
          "EpiLCs0nM_REP3",
          "EpiLCs1uM_REP1",
          "EpiLCs1uM_REP2",
          "EpiLCs1uM_REP3"
         ],
         "xaxis": "x",
         "y": [
          3.72327019092079,
          4.219333345052995,
          0,
          2.377857910973105,
          1.3061258782646565,
          0.5202567594180618,
          0.4969879857791881,
          2.6617189193339756,
          3.0404031885812035,
          0.2166030386058406,
          1.736326054818194,
          0
         ],
         "yaxis": "y"
        },
        {
         "hovertemplate": "Component=4<br>Samples=%{x}<br>Value=%{y}<extra></extra>",
         "legendgroup": "4",
         "line": {
          "color": "#ab63fa",
          "dash": "solid"
         },
         "marker": {
          "symbol": "circle"
         },
         "mode": "lines",
         "name": "4",
         "orientation": "v",
         "showlegend": true,
         "type": "scatter",
         "x": [
          "ESCs0uM_REP1",
          "ESCs0uM_REP2",
          "ESCs0uM_REP3",
          "ESCs1uM_REP1",
          "ESCs1uM_REP2",
          "ESCs1uM_REP3",
          "EpiLCs0nM_REP1",
          "EpiLCs0nM_REP2",
          "EpiLCs0nM_REP3",
          "EpiLCs1uM_REP1",
          "EpiLCs1uM_REP2",
          "EpiLCs1uM_REP3"
         ],
         "xaxis": "x",
         "y": [
          0.2620230826701694,
          2.953687695837879,
          4.195029166150209,
          1.6475369086727867,
          0.4659752819924478,
          2.607739291778254,
          1.5308813575160758,
          0.060655841455356754,
          0.38802730699961285,
          0,
          1.5161489501135816,
          0.7657979441644626
         ],
         "yaxis": "y"
        }
       ],
       "layout": {
        "font": {
         "size": 20
        },
        "height": 400,
        "legend": {
         "font": {
          "size": 20
         },
         "title": {
          "text": "Component"
         },
         "tracegroupgap": 0
        },
        "template": {
         "data": {
          "bar": [
           {
            "error_x": {
             "color": "#2a3f5f"
            },
            "error_y": {
             "color": "#2a3f5f"
            },
            "marker": {
             "line": {
              "color": "#E5ECF6",
              "width": 0.5
             },
             "pattern": {
              "fillmode": "overlay",
              "size": 10,
              "solidity": 0.2
             }
            },
            "type": "bar"
           }
          ],
          "barpolar": [
           {
            "marker": {
             "line": {
              "color": "#E5ECF6",
              "width": 0.5
             },
             "pattern": {
              "fillmode": "overlay",
              "size": 10,
              "solidity": 0.2
             }
            },
            "type": "barpolar"
           }
          ],
          "carpet": [
           {
            "aaxis": {
             "endlinecolor": "#2a3f5f",
             "gridcolor": "white",
             "linecolor": "white",
             "minorgridcolor": "white",
             "startlinecolor": "#2a3f5f"
            },
            "baxis": {
             "endlinecolor": "#2a3f5f",
             "gridcolor": "white",
             "linecolor": "white",
             "minorgridcolor": "white",
             "startlinecolor": "#2a3f5f"
            },
            "type": "carpet"
           }
          ],
          "choropleth": [
           {
            "colorbar": {
             "outlinewidth": 0,
             "ticks": ""
            },
            "type": "choropleth"
           }
          ],
          "contour": [
           {
            "colorbar": {
             "outlinewidth": 0,
             "ticks": ""
            },
            "colorscale": [
             [
              0,
              "#0d0887"
             ],
             [
              0.1111111111111111,
              "#46039f"
             ],
             [
              0.2222222222222222,
              "#7201a8"
             ],
             [
              0.3333333333333333,
              "#9c179e"
             ],
             [
              0.4444444444444444,
              "#bd3786"
             ],
             [
              0.5555555555555556,
              "#d8576b"
             ],
             [
              0.6666666666666666,
              "#ed7953"
             ],
             [
              0.7777777777777778,
              "#fb9f3a"
             ],
             [
              0.8888888888888888,
              "#fdca26"
             ],
             [
              1,
              "#f0f921"
             ]
            ],
            "type": "contour"
           }
          ],
          "contourcarpet": [
           {
            "colorbar": {
             "outlinewidth": 0,
             "ticks": ""
            },
            "type": "contourcarpet"
           }
          ],
          "heatmap": [
           {
            "colorbar": {
             "outlinewidth": 0,
             "ticks": ""
            },
            "colorscale": [
             [
              0,
              "#0d0887"
             ],
             [
              0.1111111111111111,
              "#46039f"
             ],
             [
              0.2222222222222222,
              "#7201a8"
             ],
             [
              0.3333333333333333,
              "#9c179e"
             ],
             [
              0.4444444444444444,
              "#bd3786"
             ],
             [
              0.5555555555555556,
              "#d8576b"
             ],
             [
              0.6666666666666666,
              "#ed7953"
             ],
             [
              0.7777777777777778,
              "#fb9f3a"
             ],
             [
              0.8888888888888888,
              "#fdca26"
             ],
             [
              1,
              "#f0f921"
             ]
            ],
            "type": "heatmap"
           }
          ],
          "heatmapgl": [
           {
            "colorbar": {
             "outlinewidth": 0,
             "ticks": ""
            },
            "colorscale": [
             [
              0,
              "#0d0887"
             ],
             [
              0.1111111111111111,
              "#46039f"
             ],
             [
              0.2222222222222222,
              "#7201a8"
             ],
             [
              0.3333333333333333,
              "#9c179e"
             ],
             [
              0.4444444444444444,
              "#bd3786"
             ],
             [
              0.5555555555555556,
              "#d8576b"
             ],
             [
              0.6666666666666666,
              "#ed7953"
             ],
             [
              0.7777777777777778,
              "#fb9f3a"
             ],
             [
              0.8888888888888888,
              "#fdca26"
             ],
             [
              1,
              "#f0f921"
             ]
            ],
            "type": "heatmapgl"
           }
          ],
          "histogram": [
           {
            "marker": {
             "pattern": {
              "fillmode": "overlay",
              "size": 10,
              "solidity": 0.2
             }
            },
            "type": "histogram"
           }
          ],
          "histogram2d": [
           {
            "colorbar": {
             "outlinewidth": 0,
             "ticks": ""
            },
            "colorscale": [
             [
              0,
              "#0d0887"
             ],
             [
              0.1111111111111111,
              "#46039f"
             ],
             [
              0.2222222222222222,
              "#7201a8"
             ],
             [
              0.3333333333333333,
              "#9c179e"
             ],
             [
              0.4444444444444444,
              "#bd3786"
             ],
             [
              0.5555555555555556,
              "#d8576b"
             ],
             [
              0.6666666666666666,
              "#ed7953"
             ],
             [
              0.7777777777777778,
              "#fb9f3a"
             ],
             [
              0.8888888888888888,
              "#fdca26"
             ],
             [
              1,
              "#f0f921"
             ]
            ],
            "type": "histogram2d"
           }
          ],
          "histogram2dcontour": [
           {
            "colorbar": {
             "outlinewidth": 0,
             "ticks": ""
            },
            "colorscale": [
             [
              0,
              "#0d0887"
             ],
             [
              0.1111111111111111,
              "#46039f"
             ],
             [
              0.2222222222222222,
              "#7201a8"
             ],
             [
              0.3333333333333333,
              "#9c179e"
             ],
             [
              0.4444444444444444,
              "#bd3786"
             ],
             [
              0.5555555555555556,
              "#d8576b"
             ],
             [
              0.6666666666666666,
              "#ed7953"
             ],
             [
              0.7777777777777778,
              "#fb9f3a"
             ],
             [
              0.8888888888888888,
              "#fdca26"
             ],
             [
              1,
              "#f0f921"
             ]
            ],
            "type": "histogram2dcontour"
           }
          ],
          "mesh3d": [
           {
            "colorbar": {
             "outlinewidth": 0,
             "ticks": ""
            },
            "type": "mesh3d"
           }
          ],
          "parcoords": [
           {
            "line": {
             "colorbar": {
              "outlinewidth": 0,
              "ticks": ""
             }
            },
            "type": "parcoords"
           }
          ],
          "pie": [
           {
            "automargin": true,
            "type": "pie"
           }
          ],
          "scatter": [
           {
            "fillpattern": {
             "fillmode": "overlay",
             "size": 10,
             "solidity": 0.2
            },
            "type": "scatter"
           }
          ],
          "scatter3d": [
           {
            "line": {
             "colorbar": {
              "outlinewidth": 0,
              "ticks": ""
             }
            },
            "marker": {
             "colorbar": {
              "outlinewidth": 0,
              "ticks": ""
             }
            },
            "type": "scatter3d"
           }
          ],
          "scattercarpet": [
           {
            "marker": {
             "colorbar": {
              "outlinewidth": 0,
              "ticks": ""
             }
            },
            "type": "scattercarpet"
           }
          ],
          "scattergeo": [
           {
            "marker": {
             "colorbar": {
              "outlinewidth": 0,
              "ticks": ""
             }
            },
            "type": "scattergeo"
           }
          ],
          "scattergl": [
           {
            "marker": {
             "colorbar": {
              "outlinewidth": 0,
              "ticks": ""
             }
            },
            "type": "scattergl"
           }
          ],
          "scattermapbox": [
           {
            "marker": {
             "colorbar": {
              "outlinewidth": 0,
              "ticks": ""
             }
            },
            "type": "scattermapbox"
           }
          ],
          "scatterpolar": [
           {
            "marker": {
             "colorbar": {
              "outlinewidth": 0,
              "ticks": ""
             }
            },
            "type": "scatterpolar"
           }
          ],
          "scatterpolargl": [
           {
            "marker": {
             "colorbar": {
              "outlinewidth": 0,
              "ticks": ""
             }
            },
            "type": "scatterpolargl"
           }
          ],
          "scatterternary": [
           {
            "marker": {
             "colorbar": {
              "outlinewidth": 0,
              "ticks": ""
             }
            },
            "type": "scatterternary"
           }
          ],
          "surface": [
           {
            "colorbar": {
             "outlinewidth": 0,
             "ticks": ""
            },
            "colorscale": [
             [
              0,
              "#0d0887"
             ],
             [
              0.1111111111111111,
              "#46039f"
             ],
             [
              0.2222222222222222,
              "#7201a8"
             ],
             [
              0.3333333333333333,
              "#9c179e"
             ],
             [
              0.4444444444444444,
              "#bd3786"
             ],
             [
              0.5555555555555556,
              "#d8576b"
             ],
             [
              0.6666666666666666,
              "#ed7953"
             ],
             [
              0.7777777777777778,
              "#fb9f3a"
             ],
             [
              0.8888888888888888,
              "#fdca26"
             ],
             [
              1,
              "#f0f921"
             ]
            ],
            "type": "surface"
           }
          ],
          "table": [
           {
            "cells": {
             "fill": {
              "color": "#EBF0F8"
             },
             "line": {
              "color": "white"
             }
            },
            "header": {
             "fill": {
              "color": "#C8D4E3"
             },
             "line": {
              "color": "white"
             }
            },
            "type": "table"
           }
          ]
         },
         "layout": {
          "annotationdefaults": {
           "arrowcolor": "#2a3f5f",
           "arrowhead": 0,
           "arrowwidth": 1
          },
          "autotypenumbers": "strict",
          "coloraxis": {
           "colorbar": {
            "outlinewidth": 0,
            "ticks": ""
           }
          },
          "colorscale": {
           "diverging": [
            [
             0,
             "#8e0152"
            ],
            [
             0.1,
             "#c51b7d"
            ],
            [
             0.2,
             "#de77ae"
            ],
            [
             0.3,
             "#f1b6da"
            ],
            [
             0.4,
             "#fde0ef"
            ],
            [
             0.5,
             "#f7f7f7"
            ],
            [
             0.6,
             "#e6f5d0"
            ],
            [
             0.7,
             "#b8e186"
            ],
            [
             0.8,
             "#7fbc41"
            ],
            [
             0.9,
             "#4d9221"
            ],
            [
             1,
             "#276419"
            ]
           ],
           "sequential": [
            [
             0,
             "#0d0887"
            ],
            [
             0.1111111111111111,
             "#46039f"
            ],
            [
             0.2222222222222222,
             "#7201a8"
            ],
            [
             0.3333333333333333,
             "#9c179e"
            ],
            [
             0.4444444444444444,
             "#bd3786"
            ],
            [
             0.5555555555555556,
             "#d8576b"
            ],
            [
             0.6666666666666666,
             "#ed7953"
            ],
            [
             0.7777777777777778,
             "#fb9f3a"
            ],
            [
             0.8888888888888888,
             "#fdca26"
            ],
            [
             1,
             "#f0f921"
            ]
           ],
           "sequentialminus": [
            [
             0,
             "#0d0887"
            ],
            [
             0.1111111111111111,
             "#46039f"
            ],
            [
             0.2222222222222222,
             "#7201a8"
            ],
            [
             0.3333333333333333,
             "#9c179e"
            ],
            [
             0.4444444444444444,
             "#bd3786"
            ],
            [
             0.5555555555555556,
             "#d8576b"
            ],
            [
             0.6666666666666666,
             "#ed7953"
            ],
            [
             0.7777777777777778,
             "#fb9f3a"
            ],
            [
             0.8888888888888888,
             "#fdca26"
            ],
            [
             1,
             "#f0f921"
            ]
           ]
          },
          "colorway": [
           "#636efa",
           "#EF553B",
           "#00cc96",
           "#ab63fa",
           "#FFA15A",
           "#19d3f3",
           "#FF6692",
           "#B6E880",
           "#FF97FF",
           "#FECB52"
          ],
          "font": {
           "color": "#2a3f5f"
          },
          "geo": {
           "bgcolor": "white",
           "lakecolor": "white",
           "landcolor": "#E5ECF6",
           "showlakes": true,
           "showland": true,
           "subunitcolor": "white"
          },
          "hoverlabel": {
           "align": "left"
          },
          "hovermode": "closest",
          "mapbox": {
           "style": "light"
          },
          "paper_bgcolor": "white",
          "plot_bgcolor": "#E5ECF6",
          "polar": {
           "angularaxis": {
            "gridcolor": "white",
            "linecolor": "white",
            "ticks": ""
           },
           "bgcolor": "#E5ECF6",
           "radialaxis": {
            "gridcolor": "white",
            "linecolor": "white",
            "ticks": ""
           }
          },
          "scene": {
           "xaxis": {
            "backgroundcolor": "#E5ECF6",
            "gridcolor": "white",
            "gridwidth": 2,
            "linecolor": "white",
            "showbackground": true,
            "ticks": "",
            "zerolinecolor": "white"
           },
           "yaxis": {
            "backgroundcolor": "#E5ECF6",
            "gridcolor": "white",
            "gridwidth": 2,
            "linecolor": "white",
            "showbackground": true,
            "ticks": "",
            "zerolinecolor": "white"
           },
           "zaxis": {
            "backgroundcolor": "#E5ECF6",
            "gridcolor": "white",
            "gridwidth": 2,
            "linecolor": "white",
            "showbackground": true,
            "ticks": "",
            "zerolinecolor": "white"
           }
          },
          "shapedefaults": {
           "line": {
            "color": "#2a3f5f"
           }
          },
          "ternary": {
           "aaxis": {
            "gridcolor": "white",
            "linecolor": "white",
            "ticks": ""
           },
           "baxis": {
            "gridcolor": "white",
            "linecolor": "white",
            "ticks": ""
           },
           "bgcolor": "#E5ECF6",
           "caxis": {
            "gridcolor": "white",
            "linecolor": "white",
            "ticks": ""
           }
          },
          "title": {
           "x": 0.05
          },
          "xaxis": {
           "automargin": true,
           "gridcolor": "white",
           "linecolor": "white",
           "ticks": "",
           "title": {
            "standoff": 15
           },
           "zerolinecolor": "white",
           "zerolinewidth": 2
          },
          "yaxis": {
           "automargin": true,
           "gridcolor": "white",
           "linecolor": "white",
           "ticks": "",
           "title": {
            "standoff": 15
           },
           "zerolinecolor": "white",
           "zerolinewidth": 2
          }
         }
        },
        "title": {
         "font": {
          "size": 25
         },
         "text": "Sample-wise Component Visualization (C^i)"
        },
        "width": 1400,
        "xaxis": {
         "anchor": "y",
         "domain": [
          0,
          1
         ],
         "title": {
          "font": {
           "size": 18
          },
          "text": "Samples"
         }
        },
        "yaxis": {
         "anchor": "x",
         "domain": [
          0,
          1
         ],
         "title": {
          "font": {
           "size": 20
          },
          "text": "Value"
         }
        }
       }
      }
     },
     "metadata": {},
     "output_type": "display_data"
    },
    {
     "data": {
      "application/vnd.plotly.v1+json": {
       "config": {
        "plotlyServerURL": "https://plot.ly"
       },
       "data": [
        {
         "alignmentgroup": "True",
         "hovertemplate": "Component=1<br>Source=%{x}<br>Value=%{y}<extra></extra>",
         "legendgroup": "1",
         "marker": {
          "color": "#636efa",
          "pattern": {
           "shape": ""
          }
         },
         "name": "1",
         "offsetgroup": "1",
         "orientation": "v",
         "showlegend": true,
         "textposition": "auto",
         "type": "bar",
         "x": [
          "RRBS",
          "RNA-seq",
          "Metabolomics"
         ],
         "xaxis": "x4",
         "y": [
          1.918441944280551,
          0.14249854953597438,
          0.0014562254917523311
         ],
         "yaxis": "y4"
        },
        {
         "alignmentgroup": "True",
         "hovertemplate": "Component=2<br>Source=%{x}<br>Value=%{y}<extra></extra>",
         "legendgroup": "2",
         "marker": {
          "color": "#EF553B",
          "pattern": {
           "shape": ""
          }
         },
         "name": "2",
         "offsetgroup": "2",
         "orientation": "v",
         "showlegend": true,
         "textposition": "auto",
         "type": "bar",
         "x": [
          "RRBS",
          "RNA-seq",
          "Metabolomics"
         ],
         "xaxis": "x3",
         "y": [
          1.459634614395923,
          0.05541135915409514,
          0
         ],
         "yaxis": "y3"
        },
        {
         "alignmentgroup": "True",
         "hovertemplate": "Component=3<br>Source=%{x}<br>Value=%{y}<extra></extra>",
         "legendgroup": "3",
         "marker": {
          "color": "#00cc96",
          "pattern": {
           "shape": ""
          }
         },
         "name": "3",
         "offsetgroup": "3",
         "orientation": "v",
         "showlegend": true,
         "textposition": "auto",
         "type": "bar",
         "x": [
          "RRBS",
          "RNA-seq",
          "Metabolomics"
         ],
         "xaxis": "x2",
         "y": [
          1.369271426620834,
          0.0076079068211204965,
          0
         ],
         "yaxis": "y2"
        },
        {
         "alignmentgroup": "True",
         "hovertemplate": "Component=4<br>Source=%{x}<br>Value=%{y}<extra></extra>",
         "legendgroup": "4",
         "marker": {
          "color": "#ab63fa",
          "pattern": {
           "shape": ""
          }
         },
         "name": "4",
         "offsetgroup": "4",
         "orientation": "v",
         "showlegend": true,
         "textposition": "auto",
         "type": "bar",
         "x": [
          "RRBS",
          "RNA-seq",
          "Metabolomics"
         ],
         "xaxis": "x",
         "y": [
          1.9039076094889067,
          0.11086201699067204,
          0.0003466251087179456
         ],
         "yaxis": "y"
        }
       ],
       "layout": {
        "annotations": [
         {
          "font": {},
          "showarrow": false,
          "text": "Component=4",
          "textangle": 90,
          "x": 0.98,
          "xanchor": "left",
          "xref": "paper",
          "y": 0.11375,
          "yanchor": "middle",
          "yref": "paper"
         },
         {
          "font": {},
          "showarrow": false,
          "text": "Component=3",
          "textangle": 90,
          "x": 0.98,
          "xanchor": "left",
          "xref": "paper",
          "y": 0.37124999999999997,
          "yanchor": "middle",
          "yref": "paper"
         },
         {
          "font": {},
          "showarrow": false,
          "text": "Component=2",
          "textangle": 90,
          "x": 0.98,
          "xanchor": "left",
          "xref": "paper",
          "y": 0.62875,
          "yanchor": "middle",
          "yref": "paper"
         },
         {
          "font": {},
          "showarrow": false,
          "text": "Component=1",
          "textangle": 90,
          "x": 0.98,
          "xanchor": "left",
          "xref": "paper",
          "y": 0.88625,
          "yanchor": "middle",
          "yref": "paper"
         }
        ],
        "barmode": "relative",
        "font": {
         "size": 20
        },
        "height": 800,
        "legend": {
         "font": {
          "size": 20
         },
         "title": {
          "text": "Component"
         },
         "tracegroupgap": 0
        },
        "template": {
         "data": {
          "bar": [
           {
            "error_x": {
             "color": "#2a3f5f"
            },
            "error_y": {
             "color": "#2a3f5f"
            },
            "marker": {
             "line": {
              "color": "#E5ECF6",
              "width": 0.5
             },
             "pattern": {
              "fillmode": "overlay",
              "size": 10,
              "solidity": 0.2
             }
            },
            "type": "bar"
           }
          ],
          "barpolar": [
           {
            "marker": {
             "line": {
              "color": "#E5ECF6",
              "width": 0.5
             },
             "pattern": {
              "fillmode": "overlay",
              "size": 10,
              "solidity": 0.2
             }
            },
            "type": "barpolar"
           }
          ],
          "carpet": [
           {
            "aaxis": {
             "endlinecolor": "#2a3f5f",
             "gridcolor": "white",
             "linecolor": "white",
             "minorgridcolor": "white",
             "startlinecolor": "#2a3f5f"
            },
            "baxis": {
             "endlinecolor": "#2a3f5f",
             "gridcolor": "white",
             "linecolor": "white",
             "minorgridcolor": "white",
             "startlinecolor": "#2a3f5f"
            },
            "type": "carpet"
           }
          ],
          "choropleth": [
           {
            "colorbar": {
             "outlinewidth": 0,
             "ticks": ""
            },
            "type": "choropleth"
           }
          ],
          "contour": [
           {
            "colorbar": {
             "outlinewidth": 0,
             "ticks": ""
            },
            "colorscale": [
             [
              0,
              "#0d0887"
             ],
             [
              0.1111111111111111,
              "#46039f"
             ],
             [
              0.2222222222222222,
              "#7201a8"
             ],
             [
              0.3333333333333333,
              "#9c179e"
             ],
             [
              0.4444444444444444,
              "#bd3786"
             ],
             [
              0.5555555555555556,
              "#d8576b"
             ],
             [
              0.6666666666666666,
              "#ed7953"
             ],
             [
              0.7777777777777778,
              "#fb9f3a"
             ],
             [
              0.8888888888888888,
              "#fdca26"
             ],
             [
              1,
              "#f0f921"
             ]
            ],
            "type": "contour"
           }
          ],
          "contourcarpet": [
           {
            "colorbar": {
             "outlinewidth": 0,
             "ticks": ""
            },
            "type": "contourcarpet"
           }
          ],
          "heatmap": [
           {
            "colorbar": {
             "outlinewidth": 0,
             "ticks": ""
            },
            "colorscale": [
             [
              0,
              "#0d0887"
             ],
             [
              0.1111111111111111,
              "#46039f"
             ],
             [
              0.2222222222222222,
              "#7201a8"
             ],
             [
              0.3333333333333333,
              "#9c179e"
             ],
             [
              0.4444444444444444,
              "#bd3786"
             ],
             [
              0.5555555555555556,
              "#d8576b"
             ],
             [
              0.6666666666666666,
              "#ed7953"
             ],
             [
              0.7777777777777778,
              "#fb9f3a"
             ],
             [
              0.8888888888888888,
              "#fdca26"
             ],
             [
              1,
              "#f0f921"
             ]
            ],
            "type": "heatmap"
           }
          ],
          "heatmapgl": [
           {
            "colorbar": {
             "outlinewidth": 0,
             "ticks": ""
            },
            "colorscale": [
             [
              0,
              "#0d0887"
             ],
             [
              0.1111111111111111,
              "#46039f"
             ],
             [
              0.2222222222222222,
              "#7201a8"
             ],
             [
              0.3333333333333333,
              "#9c179e"
             ],
             [
              0.4444444444444444,
              "#bd3786"
             ],
             [
              0.5555555555555556,
              "#d8576b"
             ],
             [
              0.6666666666666666,
              "#ed7953"
             ],
             [
              0.7777777777777778,
              "#fb9f3a"
             ],
             [
              0.8888888888888888,
              "#fdca26"
             ],
             [
              1,
              "#f0f921"
             ]
            ],
            "type": "heatmapgl"
           }
          ],
          "histogram": [
           {
            "marker": {
             "pattern": {
              "fillmode": "overlay",
              "size": 10,
              "solidity": 0.2
             }
            },
            "type": "histogram"
           }
          ],
          "histogram2d": [
           {
            "colorbar": {
             "outlinewidth": 0,
             "ticks": ""
            },
            "colorscale": [
             [
              0,
              "#0d0887"
             ],
             [
              0.1111111111111111,
              "#46039f"
             ],
             [
              0.2222222222222222,
              "#7201a8"
             ],
             [
              0.3333333333333333,
              "#9c179e"
             ],
             [
              0.4444444444444444,
              "#bd3786"
             ],
             [
              0.5555555555555556,
              "#d8576b"
             ],
             [
              0.6666666666666666,
              "#ed7953"
             ],
             [
              0.7777777777777778,
              "#fb9f3a"
             ],
             [
              0.8888888888888888,
              "#fdca26"
             ],
             [
              1,
              "#f0f921"
             ]
            ],
            "type": "histogram2d"
           }
          ],
          "histogram2dcontour": [
           {
            "colorbar": {
             "outlinewidth": 0,
             "ticks": ""
            },
            "colorscale": [
             [
              0,
              "#0d0887"
             ],
             [
              0.1111111111111111,
              "#46039f"
             ],
             [
              0.2222222222222222,
              "#7201a8"
             ],
             [
              0.3333333333333333,
              "#9c179e"
             ],
             [
              0.4444444444444444,
              "#bd3786"
             ],
             [
              0.5555555555555556,
              "#d8576b"
             ],
             [
              0.6666666666666666,
              "#ed7953"
             ],
             [
              0.7777777777777778,
              "#fb9f3a"
             ],
             [
              0.8888888888888888,
              "#fdca26"
             ],
             [
              1,
              "#f0f921"
             ]
            ],
            "type": "histogram2dcontour"
           }
          ],
          "mesh3d": [
           {
            "colorbar": {
             "outlinewidth": 0,
             "ticks": ""
            },
            "type": "mesh3d"
           }
          ],
          "parcoords": [
           {
            "line": {
             "colorbar": {
              "outlinewidth": 0,
              "ticks": ""
             }
            },
            "type": "parcoords"
           }
          ],
          "pie": [
           {
            "automargin": true,
            "type": "pie"
           }
          ],
          "scatter": [
           {
            "fillpattern": {
             "fillmode": "overlay",
             "size": 10,
             "solidity": 0.2
            },
            "type": "scatter"
           }
          ],
          "scatter3d": [
           {
            "line": {
             "colorbar": {
              "outlinewidth": 0,
              "ticks": ""
             }
            },
            "marker": {
             "colorbar": {
              "outlinewidth": 0,
              "ticks": ""
             }
            },
            "type": "scatter3d"
           }
          ],
          "scattercarpet": [
           {
            "marker": {
             "colorbar": {
              "outlinewidth": 0,
              "ticks": ""
             }
            },
            "type": "scattercarpet"
           }
          ],
          "scattergeo": [
           {
            "marker": {
             "colorbar": {
              "outlinewidth": 0,
              "ticks": ""
             }
            },
            "type": "scattergeo"
           }
          ],
          "scattergl": [
           {
            "marker": {
             "colorbar": {
              "outlinewidth": 0,
              "ticks": ""
             }
            },
            "type": "scattergl"
           }
          ],
          "scattermapbox": [
           {
            "marker": {
             "colorbar": {
              "outlinewidth": 0,
              "ticks": ""
             }
            },
            "type": "scattermapbox"
           }
          ],
          "scatterpolar": [
           {
            "marker": {
             "colorbar": {
              "outlinewidth": 0,
              "ticks": ""
             }
            },
            "type": "scatterpolar"
           }
          ],
          "scatterpolargl": [
           {
            "marker": {
             "colorbar": {
              "outlinewidth": 0,
              "ticks": ""
             }
            },
            "type": "scatterpolargl"
           }
          ],
          "scatterternary": [
           {
            "marker": {
             "colorbar": {
              "outlinewidth": 0,
              "ticks": ""
             }
            },
            "type": "scatterternary"
           }
          ],
          "surface": [
           {
            "colorbar": {
             "outlinewidth": 0,
             "ticks": ""
            },
            "colorscale": [
             [
              0,
              "#0d0887"
             ],
             [
              0.1111111111111111,
              "#46039f"
             ],
             [
              0.2222222222222222,
              "#7201a8"
             ],
             [
              0.3333333333333333,
              "#9c179e"
             ],
             [
              0.4444444444444444,
              "#bd3786"
             ],
             [
              0.5555555555555556,
              "#d8576b"
             ],
             [
              0.6666666666666666,
              "#ed7953"
             ],
             [
              0.7777777777777778,
              "#fb9f3a"
             ],
             [
              0.8888888888888888,
              "#fdca26"
             ],
             [
              1,
              "#f0f921"
             ]
            ],
            "type": "surface"
           }
          ],
          "table": [
           {
            "cells": {
             "fill": {
              "color": "#EBF0F8"
             },
             "line": {
              "color": "white"
             }
            },
            "header": {
             "fill": {
              "color": "#C8D4E3"
             },
             "line": {
              "color": "white"
             }
            },
            "type": "table"
           }
          ]
         },
         "layout": {
          "annotationdefaults": {
           "arrowcolor": "#2a3f5f",
           "arrowhead": 0,
           "arrowwidth": 1
          },
          "autotypenumbers": "strict",
          "coloraxis": {
           "colorbar": {
            "outlinewidth": 0,
            "ticks": ""
           }
          },
          "colorscale": {
           "diverging": [
            [
             0,
             "#8e0152"
            ],
            [
             0.1,
             "#c51b7d"
            ],
            [
             0.2,
             "#de77ae"
            ],
            [
             0.3,
             "#f1b6da"
            ],
            [
             0.4,
             "#fde0ef"
            ],
            [
             0.5,
             "#f7f7f7"
            ],
            [
             0.6,
             "#e6f5d0"
            ],
            [
             0.7,
             "#b8e186"
            ],
            [
             0.8,
             "#7fbc41"
            ],
            [
             0.9,
             "#4d9221"
            ],
            [
             1,
             "#276419"
            ]
           ],
           "sequential": [
            [
             0,
             "#0d0887"
            ],
            [
             0.1111111111111111,
             "#46039f"
            ],
            [
             0.2222222222222222,
             "#7201a8"
            ],
            [
             0.3333333333333333,
             "#9c179e"
            ],
            [
             0.4444444444444444,
             "#bd3786"
            ],
            [
             0.5555555555555556,
             "#d8576b"
            ],
            [
             0.6666666666666666,
             "#ed7953"
            ],
            [
             0.7777777777777778,
             "#fb9f3a"
            ],
            [
             0.8888888888888888,
             "#fdca26"
            ],
            [
             1,
             "#f0f921"
            ]
           ],
           "sequentialminus": [
            [
             0,
             "#0d0887"
            ],
            [
             0.1111111111111111,
             "#46039f"
            ],
            [
             0.2222222222222222,
             "#7201a8"
            ],
            [
             0.3333333333333333,
             "#9c179e"
            ],
            [
             0.4444444444444444,
             "#bd3786"
            ],
            [
             0.5555555555555556,
             "#d8576b"
            ],
            [
             0.6666666666666666,
             "#ed7953"
            ],
            [
             0.7777777777777778,
             "#fb9f3a"
            ],
            [
             0.8888888888888888,
             "#fdca26"
            ],
            [
             1,
             "#f0f921"
            ]
           ]
          },
          "colorway": [
           "#636efa",
           "#EF553B",
           "#00cc96",
           "#ab63fa",
           "#FFA15A",
           "#19d3f3",
           "#FF6692",
           "#B6E880",
           "#FF97FF",
           "#FECB52"
          ],
          "font": {
           "color": "#2a3f5f"
          },
          "geo": {
           "bgcolor": "white",
           "lakecolor": "white",
           "landcolor": "#E5ECF6",
           "showlakes": true,
           "showland": true,
           "subunitcolor": "white"
          },
          "hoverlabel": {
           "align": "left"
          },
          "hovermode": "closest",
          "mapbox": {
           "style": "light"
          },
          "paper_bgcolor": "white",
          "plot_bgcolor": "#E5ECF6",
          "polar": {
           "angularaxis": {
            "gridcolor": "white",
            "linecolor": "white",
            "ticks": ""
           },
           "bgcolor": "#E5ECF6",
           "radialaxis": {
            "gridcolor": "white",
            "linecolor": "white",
            "ticks": ""
           }
          },
          "scene": {
           "xaxis": {
            "backgroundcolor": "#E5ECF6",
            "gridcolor": "white",
            "gridwidth": 2,
            "linecolor": "white",
            "showbackground": true,
            "ticks": "",
            "zerolinecolor": "white"
           },
           "yaxis": {
            "backgroundcolor": "#E5ECF6",
            "gridcolor": "white",
            "gridwidth": 2,
            "linecolor": "white",
            "showbackground": true,
            "ticks": "",
            "zerolinecolor": "white"
           },
           "zaxis": {
            "backgroundcolor": "#E5ECF6",
            "gridcolor": "white",
            "gridwidth": 2,
            "linecolor": "white",
            "showbackground": true,
            "ticks": "",
            "zerolinecolor": "white"
           }
          },
          "shapedefaults": {
           "line": {
            "color": "#2a3f5f"
           }
          },
          "ternary": {
           "aaxis": {
            "gridcolor": "white",
            "linecolor": "white",
            "ticks": ""
           },
           "baxis": {
            "gridcolor": "white",
            "linecolor": "white",
            "ticks": ""
           },
           "bgcolor": "#E5ECF6",
           "caxis": {
            "gridcolor": "white",
            "linecolor": "white",
            "ticks": ""
           }
          },
          "title": {
           "x": 0.05
          },
          "xaxis": {
           "automargin": true,
           "gridcolor": "white",
           "linecolor": "white",
           "ticks": "",
           "title": {
            "standoff": 15
           },
           "zerolinecolor": "white",
           "zerolinewidth": 2
          },
          "yaxis": {
           "automargin": true,
           "gridcolor": "white",
           "linecolor": "white",
           "ticks": "",
           "title": {
            "standoff": 15
           },
           "zerolinecolor": "white",
           "zerolinewidth": 2
          }
         }
        },
        "title": {
         "font": {
          "size": 25
         },
         "text": "Component Strengths in Data Sources (D^i)"
        },
        "width": 800,
        "xaxis": {
         "anchor": "y",
         "domain": [
          0,
          0.98
         ],
         "title": {
          "font": {
           "size": 18
          },
          "text": "Source"
         }
        },
        "xaxis2": {
         "anchor": "y2",
         "domain": [
          0,
          0.98
         ],
         "matches": "x",
         "showticklabels": false
        },
        "xaxis3": {
         "anchor": "y3",
         "domain": [
          0,
          0.98
         ],
         "matches": "x",
         "showticklabels": false
        },
        "xaxis4": {
         "anchor": "y4",
         "domain": [
          0,
          0.98
         ],
         "matches": "x",
         "showticklabels": false
        },
        "yaxis": {
         "anchor": "x",
         "domain": [
          0,
          0.2275
         ],
         "title": {
          "font": {
           "size": 20
          },
          "text": "Value"
         }
        },
        "yaxis2": {
         "anchor": "x2",
         "domain": [
          0.2575,
          0.485
         ],
         "matches": "y",
         "title": {
          "text": "Value"
         }
        },
        "yaxis3": {
         "anchor": "x3",
         "domain": [
          0.515,
          0.7425
         ],
         "matches": "y",
         "title": {
          "text": "Value"
         }
        },
        "yaxis4": {
         "anchor": "x4",
         "domain": [
          0.7725,
          1
         ],
         "matches": "y",
         "title": {
          "text": "Value"
         }
        }
       }
      }
     },
     "metadata": {},
     "output_type": "display_data"
    }
   ],
   "source": [
    "import plotly.io as pio\n",
    "\n",
    "# Visualize matrix C (time-resolved components)\n",
    "C_melted = C.reset_index().melt(\n",
    "    id_vars=\"index\", var_name=\"Component\", value_name=\"Value\"\n",
    ")\n",
    "C_melted.rename(columns={\"index\": \"Samples\"}, inplace=True)\n",
    "\n",
    "fig1 = px.line(\n",
    "    C_melted,\n",
    "    x=\"Samples\",\n",
    "    y=\"Value\",\n",
    "    color=\"Component\",\n",
    "    #facet_row=\"Component\",\n",
    "    hover_data=\"Samples\",\n",
    "    title=\"Sample-wise Component Visualization (C^i)\",\n",
    "    width=1400,  # Set plot width\n",
    "    height=400,  # Set plot height\n",
    ")\n",
    "fig1.update_layout(\n",
    "    title_font_size=25,  # Increase title font size\n",
    "    xaxis_title_font_size=18,  # Increase x-axis title font size\n",
    "    yaxis_title_font_size=20,  # Increase y-axis title font size\n",
    "    legend_font_size=20,  # Increase legend font size\n",
    "    font=dict(size=20),  # Increase overall font size\n",
    ")\n",
    "# Save the first plot\n",
    "pio.write_image(fig1, \"collective_factor_plot_C.png\", format=\"png\", width=1400, height=400)\n",
    "fig1.show()\n",
    "\n",
    "# Visualize matrix A (component strengths in data sources)\n",
    "A_melted = A.reset_index().melt(\n",
    "    id_vars=\"index\", var_name=\"Component\", value_name=\"Value\"\n",
    ")\n",
    "A_melted.rename(columns={\"index\": \"Source\"}, inplace=True)\n",
    "A_melted[\"Component\"] = A_melted[\"Component\"].astype(str)  # Ensure discrete colormap\n",
    "\n",
    "fig2 = px.bar(\n",
    "    A_melted,\n",
    "    x=\"Source\",\n",
    "    y=\"Value\",\n",
    "    color=\"Component\",\n",
    "    facet_row=\"Component\",\n",
    "    title=\"Component Strengths in Data Sources (D^i)\",\n",
    "    width=800,  # Set plot width\n",
    "    height=800,  # Set plot height\n",
    ")\n",
    "fig2.update_layout(\n",
    "    title_font_size=25,  # Increase title font size\n",
    "    xaxis_title_font_size=18,  # Increase x-axis title font size\n",
    "    yaxis_title_font_size=20,  # Increase y-axis title font size\n",
    "    legend_font_size=20,  # Increase legend font size\n",
    "    font=dict(size=20),  # Increase overall font size\n",
    ")\n",
    "# Save the second plot\n",
    "pio.write_image(fig2, \"weights_plot_D.png\", format=\"png\", width=800, height=800)\n",
    "fig2.show()\n",
    "\n",
    "\n"
   ]
  },
  {
   "cell_type": "code",
   "execution_count": null,
   "metadata": {},
   "outputs": [],
   "source": [
    "weights, (A, B_is, C) = selected_cmf"
   ]
  },
  {
   "cell_type": "code",
   "execution_count": 19,
   "metadata": {},
   "outputs": [
    {
     "data": {
      "text/html": [
       "<div>\n",
       "<style scoped>\n",
       "    .dataframe tbody tr th:only-of-type {\n",
       "        vertical-align: middle;\n",
       "    }\n",
       "\n",
       "    .dataframe tbody tr th {\n",
       "        vertical-align: top;\n",
       "    }\n",
       "\n",
       "    .dataframe thead th {\n",
       "        text-align: right;\n",
       "    }\n",
       "</style>\n",
       "<table border=\"1\" class=\"dataframe\">\n",
       "  <thead>\n",
       "    <tr style=\"text-align: right;\">\n",
       "      <th></th>\n",
       "      <th>Component 1</th>\n",
       "      <th>Component 2</th>\n",
       "      <th>Component 3</th>\n",
       "      <th>Component 4</th>\n",
       "    </tr>\n",
       "  </thead>\n",
       "  <tbody>\n",
       "    <tr>\n",
       "      <th>(GL456368.1_19257,)</th>\n",
       "      <td>0.060648</td>\n",
       "      <td>0.000000</td>\n",
       "      <td>0.000000</td>\n",
       "      <td>0.000000</td>\n",
       "    </tr>\n",
       "    <tr>\n",
       "      <th>(GL456381.1_5881,)</th>\n",
       "      <td>0.013534</td>\n",
       "      <td>0.072479</td>\n",
       "      <td>0.043976</td>\n",
       "      <td>0.039641</td>\n",
       "    </tr>\n",
       "    <tr>\n",
       "      <th>(1_3091100,)</th>\n",
       "      <td>0.022079</td>\n",
       "      <td>0.038214</td>\n",
       "      <td>0.063971</td>\n",
       "      <td>0.053610</td>\n",
       "    </tr>\n",
       "    <tr>\n",
       "      <th>(1_3091114,)</th>\n",
       "      <td>0.019149</td>\n",
       "      <td>0.048975</td>\n",
       "      <td>0.066269</td>\n",
       "      <td>0.055929</td>\n",
       "    </tr>\n",
       "    <tr>\n",
       "      <th>(1_3091195,)</th>\n",
       "      <td>0.003742</td>\n",
       "      <td>0.145661</td>\n",
       "      <td>0.000000</td>\n",
       "      <td>0.000000</td>\n",
       "    </tr>\n",
       "    <tr>\n",
       "      <th>...</th>\n",
       "      <td>...</td>\n",
       "      <td>...</td>\n",
       "      <td>...</td>\n",
       "      <td>...</td>\n",
       "    </tr>\n",
       "    <tr>\n",
       "      <th>(2_39028657,)</th>\n",
       "      <td>0.007078</td>\n",
       "      <td>0.083899</td>\n",
       "      <td>0.036795</td>\n",
       "      <td>0.040416</td>\n",
       "    </tr>\n",
       "    <tr>\n",
       "      <th>(2_39080397,)</th>\n",
       "      <td>0.000000</td>\n",
       "      <td>0.000000</td>\n",
       "      <td>0.000000</td>\n",
       "      <td>0.000000</td>\n",
       "    </tr>\n",
       "    <tr>\n",
       "      <th>(2_39080686,)</th>\n",
       "      <td>0.000000</td>\n",
       "      <td>0.000000</td>\n",
       "      <td>0.000000</td>\n",
       "      <td>0.000000</td>\n",
       "    </tr>\n",
       "    <tr>\n",
       "      <th>(2_39103306,)</th>\n",
       "      <td>0.119809</td>\n",
       "      <td>0.000000</td>\n",
       "      <td>0.000000</td>\n",
       "      <td>0.000000</td>\n",
       "    </tr>\n",
       "    <tr>\n",
       "      <th>(2_39116082,)</th>\n",
       "      <td>0.000000</td>\n",
       "      <td>0.000000</td>\n",
       "      <td>0.000000</td>\n",
       "      <td>0.000000</td>\n",
       "    </tr>\n",
       "  </tbody>\n",
       "</table>\n",
       "<p>414234 rows × 4 columns</p>\n",
       "</div>"
      ],
      "text/plain": [
       "                     Component 1  Component 2  Component 3  Component 4\n",
       "(GL456368.1_19257,)     0.060648     0.000000     0.000000     0.000000\n",
       "(GL456381.1_5881,)      0.013534     0.072479     0.043976     0.039641\n",
       "(1_3091100,)            0.022079     0.038214     0.063971     0.053610\n",
       "(1_3091114,)            0.019149     0.048975     0.066269     0.055929\n",
       "(1_3091195,)            0.003742     0.145661     0.000000     0.000000\n",
       "...                          ...          ...          ...          ...\n",
       "(2_39028657,)           0.007078     0.083899     0.036795     0.040416\n",
       "(2_39080397,)           0.000000     0.000000     0.000000     0.000000\n",
       "(2_39080686,)           0.000000     0.000000     0.000000     0.000000\n",
       "(2_39103306,)           0.119809     0.000000     0.000000     0.000000\n",
       "(2_39116082,)           0.000000     0.000000     0.000000     0.000000\n",
       "\n",
       "[414234 rows x 4 columns]"
      ]
     },
     "execution_count": 19,
     "metadata": {},
     "output_type": "execute_result"
    }
   ],
   "source": [
    "df_1 = pd.DataFrame(B_is[0])\n",
    "df_1"
   ]
  },
  {
   "cell_type": "code",
   "execution_count": 20,
   "metadata": {},
   "outputs": [
    {
     "data": {
      "text/html": [
       "<div>\n",
       "<style scoped>\n",
       "    .dataframe tbody tr th:only-of-type {\n",
       "        vertical-align: middle;\n",
       "    }\n",
       "\n",
       "    .dataframe tbody tr th {\n",
       "        vertical-align: top;\n",
       "    }\n",
       "\n",
       "    .dataframe thead th {\n",
       "        text-align: right;\n",
       "    }\n",
       "</style>\n",
       "<table border=\"1\" class=\"dataframe\">\n",
       "  <thead>\n",
       "    <tr style=\"text-align: right;\">\n",
       "      <th></th>\n",
       "      <th>Component 1</th>\n",
       "      <th>Component 2</th>\n",
       "      <th>Component 3</th>\n",
       "      <th>Component 4</th>\n",
       "    </tr>\n",
       "  </thead>\n",
       "  <tbody>\n",
       "    <tr>\n",
       "      <th>(Gnai3,)</th>\n",
       "      <td>0.238119</td>\n",
       "      <td>9.460662e-05</td>\n",
       "      <td>0.000047</td>\n",
       "      <td>0.234947</td>\n",
       "    </tr>\n",
       "    <tr>\n",
       "      <th>(Cdc45,)</th>\n",
       "      <td>1.671356</td>\n",
       "      <td>0.000000e+00</td>\n",
       "      <td>0.000033</td>\n",
       "      <td>0.357895</td>\n",
       "    </tr>\n",
       "    <tr>\n",
       "      <th>(H19,)</th>\n",
       "      <td>0.000009</td>\n",
       "      <td>4.676383e-01</td>\n",
       "      <td>0.000005</td>\n",
       "      <td>0.000000</td>\n",
       "    </tr>\n",
       "    <tr>\n",
       "      <th>(Scml2,)</th>\n",
       "      <td>0.900832</td>\n",
       "      <td>4.957411e-05</td>\n",
       "      <td>0.000025</td>\n",
       "      <td>1.080951</td>\n",
       "    </tr>\n",
       "    <tr>\n",
       "      <th>(Narf,)</th>\n",
       "      <td>0.000022</td>\n",
       "      <td>6.190658e-05</td>\n",
       "      <td>1.458665</td>\n",
       "      <td>0.000000</td>\n",
       "    </tr>\n",
       "    <tr>\n",
       "      <th>...</th>\n",
       "      <td>...</td>\n",
       "      <td>...</td>\n",
       "      <td>...</td>\n",
       "      <td>...</td>\n",
       "    </tr>\n",
       "    <tr>\n",
       "      <th>(Rn7sk,)</th>\n",
       "      <td>0.000002</td>\n",
       "      <td>1.311409e-01</td>\n",
       "      <td>0.000001</td>\n",
       "      <td>0.000001</td>\n",
       "    </tr>\n",
       "    <tr>\n",
       "      <th>(Gm55635,)</th>\n",
       "      <td>0.000000</td>\n",
       "      <td>2.467668e-06</td>\n",
       "      <td>0.000002</td>\n",
       "      <td>0.000006</td>\n",
       "    </tr>\n",
       "    <tr>\n",
       "      <th>(Gm55944,)</th>\n",
       "      <td>0.000010</td>\n",
       "      <td>1.810556e-05</td>\n",
       "      <td>0.799565</td>\n",
       "      <td>0.000015</td>\n",
       "    </tr>\n",
       "    <tr>\n",
       "      <th>(Gm55307,)</th>\n",
       "      <td>0.000000</td>\n",
       "      <td>0.000000e+00</td>\n",
       "      <td>0.000000</td>\n",
       "      <td>0.000000</td>\n",
       "    </tr>\n",
       "    <tr>\n",
       "      <th>(Gm55431,)</th>\n",
       "      <td>0.000000</td>\n",
       "      <td>1.337236e-07</td>\n",
       "      <td>0.000000</td>\n",
       "      <td>0.000000</td>\n",
       "    </tr>\n",
       "  </tbody>\n",
       "</table>\n",
       "<p>26210 rows × 4 columns</p>\n",
       "</div>"
      ],
      "text/plain": [
       "            Component 1   Component 2  Component 3  Component 4\n",
       "(Gnai3,)       0.238119  9.460662e-05     0.000047     0.234947\n",
       "(Cdc45,)       1.671356  0.000000e+00     0.000033     0.357895\n",
       "(H19,)         0.000009  4.676383e-01     0.000005     0.000000\n",
       "(Scml2,)       0.900832  4.957411e-05     0.000025     1.080951\n",
       "(Narf,)        0.000022  6.190658e-05     1.458665     0.000000\n",
       "...                 ...           ...          ...          ...\n",
       "(Rn7sk,)       0.000002  1.311409e-01     0.000001     0.000001\n",
       "(Gm55635,)     0.000000  2.467668e-06     0.000002     0.000006\n",
       "(Gm55944,)     0.000010  1.810556e-05     0.799565     0.000015\n",
       "(Gm55307,)     0.000000  0.000000e+00     0.000000     0.000000\n",
       "(Gm55431,)     0.000000  1.337236e-07     0.000000     0.000000\n",
       "\n",
       "[26210 rows x 4 columns]"
      ]
     },
     "execution_count": 20,
     "metadata": {},
     "output_type": "execute_result"
    }
   ],
   "source": [
    "df_2 = pd.DataFrame(B_is[1])\n",
    "df_2"
   ]
  },
  {
   "cell_type": "code",
   "execution_count": 21,
   "metadata": {},
   "outputs": [
    {
     "data": {
      "text/html": [
       "<div>\n",
       "<style scoped>\n",
       "    .dataframe tbody tr th:only-of-type {\n",
       "        vertical-align: middle;\n",
       "    }\n",
       "\n",
       "    .dataframe tbody tr th {\n",
       "        vertical-align: top;\n",
       "    }\n",
       "\n",
       "    .dataframe thead th {\n",
       "        text-align: right;\n",
       "    }\n",
       "</style>\n",
       "<table border=\"1\" class=\"dataframe\">\n",
       "  <thead>\n",
       "    <tr style=\"text-align: right;\">\n",
       "      <th></th>\n",
       "      <th>Component 1</th>\n",
       "      <th>Component 2</th>\n",
       "      <th>Component 3</th>\n",
       "      <th>Component 4</th>\n",
       "    </tr>\n",
       "  </thead>\n",
       "  <tbody>\n",
       "    <tr>\n",
       "      <th>(2-Aminobutyrate,)</th>\n",
       "      <td>0.000000</td>\n",
       "      <td>0.000000</td>\n",
       "      <td>0.000000</td>\n",
       "      <td>0.000000</td>\n",
       "    </tr>\n",
       "    <tr>\n",
       "      <th>(2-HG,)</th>\n",
       "      <td>8.994370</td>\n",
       "      <td>0.000391</td>\n",
       "      <td>0.000000</td>\n",
       "      <td>9.951269</td>\n",
       "    </tr>\n",
       "    <tr>\n",
       "      <th>(2-Oxoadipate,)</th>\n",
       "      <td>0.000778</td>\n",
       "      <td>0.000814</td>\n",
       "      <td>0.000000</td>\n",
       "      <td>0.000000</td>\n",
       "    </tr>\n",
       "    <tr>\n",
       "      <th>(3-Phosphoglycerate,)</th>\n",
       "      <td>0.000001</td>\n",
       "      <td>0.000000</td>\n",
       "      <td>0.000000</td>\n",
       "      <td>0.000000</td>\n",
       "    </tr>\n",
       "    <tr>\n",
       "      <th>(4-Hydroxyphenyllactate,)</th>\n",
       "      <td>0.000000</td>\n",
       "      <td>15.894417</td>\n",
       "      <td>0.000359</td>\n",
       "      <td>0.001151</td>\n",
       "    </tr>\n",
       "    <tr>\n",
       "      <th>...</th>\n",
       "      <td>...</td>\n",
       "      <td>...</td>\n",
       "      <td>...</td>\n",
       "      <td>...</td>\n",
       "    </tr>\n",
       "    <tr>\n",
       "      <th>(Uracil,)</th>\n",
       "      <td>0.000026</td>\n",
       "      <td>0.000000</td>\n",
       "      <td>0.000028</td>\n",
       "      <td>0.000000</td>\n",
       "    </tr>\n",
       "    <tr>\n",
       "      <th>(Uridine,)</th>\n",
       "      <td>0.000000</td>\n",
       "      <td>0.000000</td>\n",
       "      <td>0.800798</td>\n",
       "      <td>0.000000</td>\n",
       "    </tr>\n",
       "    <tr>\n",
       "      <th>(UTP,)</th>\n",
       "      <td>0.000000</td>\n",
       "      <td>0.000000</td>\n",
       "      <td>0.000000</td>\n",
       "      <td>0.000000</td>\n",
       "    </tr>\n",
       "    <tr>\n",
       "      <th>(Valine,)</th>\n",
       "      <td>0.000000</td>\n",
       "      <td>18.953903</td>\n",
       "      <td>0.000486</td>\n",
       "      <td>0.001228</td>\n",
       "    </tr>\n",
       "    <tr>\n",
       "      <th>(Xanthine,)</th>\n",
       "      <td>0.000000</td>\n",
       "      <td>0.000000</td>\n",
       "      <td>0.000367</td>\n",
       "      <td>0.006720</td>\n",
       "    </tr>\n",
       "  </tbody>\n",
       "</table>\n",
       "<p>137 rows × 4 columns</p>\n",
       "</div>"
      ],
      "text/plain": [
       "                           Component 1  Component 2  Component 3  Component 4\n",
       "(2-Aminobutyrate,)            0.000000     0.000000     0.000000     0.000000\n",
       "(2-HG,)                       8.994370     0.000391     0.000000     9.951269\n",
       "(2-Oxoadipate,)               0.000778     0.000814     0.000000     0.000000\n",
       "(3-Phosphoglycerate,)         0.000001     0.000000     0.000000     0.000000\n",
       "(4-Hydroxyphenyllactate,)     0.000000    15.894417     0.000359     0.001151\n",
       "...                                ...          ...          ...          ...\n",
       "(Uracil,)                     0.000026     0.000000     0.000028     0.000000\n",
       "(Uridine,)                    0.000000     0.000000     0.800798     0.000000\n",
       "(UTP,)                        0.000000     0.000000     0.000000     0.000000\n",
       "(Valine,)                     0.000000    18.953903     0.000486     0.001228\n",
       "(Xanthine,)                   0.000000     0.000000     0.000367     0.006720\n",
       "\n",
       "[137 rows x 4 columns]"
      ]
     },
     "execution_count": 21,
     "metadata": {},
     "output_type": "execute_result"
    }
   ],
   "source": [
    "df_3 = pd.DataFrame(B_is[2])\n",
    "df_3"
   ]
  },
  {
   "cell_type": "code",
   "execution_count": null,
   "metadata": {},
   "outputs": [
    {
     "name": "stderr",
     "output_type": "stream",
     "text": [
      "/opt/homebrew/lib/python3.11/site-packages/IPython/core/pylabtools.py:152: MatplotlibDeprecationWarning:\n",
      "\n",
      "savefig() got unexpected keyword argument \"orientation\" which is no longer supported as of 3.3 and will become an error two minor releases later\n",
      "\n",
      "/opt/homebrew/lib/python3.11/site-packages/IPython/core/pylabtools.py:152: MatplotlibDeprecationWarning:\n",
      "\n",
      "savefig() got unexpected keyword argument \"dpi\" which is no longer supported as of 3.3 and will become an error two minor releases later\n",
      "\n",
      "/opt/homebrew/lib/python3.11/site-packages/IPython/core/pylabtools.py:152: MatplotlibDeprecationWarning:\n",
      "\n",
      "savefig() got unexpected keyword argument \"facecolor\" which is no longer supported as of 3.3 and will become an error two minor releases later\n",
      "\n",
      "/opt/homebrew/lib/python3.11/site-packages/IPython/core/pylabtools.py:152: MatplotlibDeprecationWarning:\n",
      "\n",
      "savefig() got unexpected keyword argument \"edgecolor\" which is no longer supported as of 3.3 and will become an error two minor releases later\n",
      "\n",
      "/opt/homebrew/lib/python3.11/site-packages/IPython/core/pylabtools.py:152: MatplotlibDeprecationWarning:\n",
      "\n",
      "savefig() got unexpected keyword argument \"bbox_inches_restore\" which is no longer supported as of 3.3 and will become an error two minor releases later\n",
      "\n"
     ]
    },
    {
     "data": {
      "image/png": "[encoded data removed]",
      "text/plain": [
       "<Figure size 2000x1000 with 6 Axes>"
      ]
     },
     "metadata": {},
     "output_type": "display_data"
    }
   ],
   "source": [
    "# B matrices - Unique Factor Matrices\n",
    "# Load indices\n",
    "rrbs_indices = pd.read_csv(\"rrbs_indices.csv\", index_col=0)\n",
    "rna_indices = pd.read_csv(\"rna_indices.csv\", index_col=0)\n",
    "metabo_indices = pd.read_csv(\"metabo_indices.csv\", index_col=0)\n",
    "\n",
    "# For Methylation\n",
    "methylation_data = pd.DataFrame(selected_cmf.factors[1][0])  # Convert to DataFrame\n",
    "methylation_data.index = rrbs_indices.loc[methylation_data.index].values.flatten()  # Match indices\n",
    "methylation_data = methylation_data.iloc[:, :5]\n",
    "methylation_sorted = methylation_data.sort_values(by=methylation_data.columns[0], axis=0, ascending=False)  # Sort based on first column\n",
    "top_methylation = methylation_sorted.head(25)\n",
    "\n",
    "# For RNA-seq\n",
    "rna_data = pd.DataFrame(selected_cmf.factors[1][1])  # Convert to DataFrame\n",
    "rna_data.index = rna_indices.loc[rna_data.index].values.flatten()  # Match indices\n",
    "rna_data = rna_data.iloc[:, :5]\n",
    "rna_sorted = rna_data.sort_values(by=rna_data.columns[0], axis=0, ascending=False)  # Sort based on first column\n",
    "top_rna = rna_sorted.head(25)\n",
    "\n",
    "# For Metabolics\n",
    "metabolics_data = pd.DataFrame(selected_cmf.factors[1][2])  # Convert to DataFrame\n",
    "metabolics_data.index = metabo_indices.loc[metabolics_data.index].values.flatten()  # Match indices\n",
    "metabolics_data = metabolics_data.iloc[:, :5]\n",
    "metabolics_sorted = metabolics_data.sort_values(by=metabolics_data.columns[0], axis=0, ascending=False)  # Sort based on first column\n",
    "top_metabolics = metabolics_sorted.head(25)\n",
    "\n",
    "# Example function to replace hierarchical clustering with k-Means\n",
    "def kmeans_clustermap(data, n_clusters, cmap=\"coolwarm\", ax=None, title=\"\"):\n",
    "\n",
    "    kmeans = KMeans(n_clusters=n_clusters, random_state=42)\n",
    "    cluster_labels = kmeans.fit_predict(data)\n",
    "\n",
    "    data_with_clusters = pd.DataFrame(data, index=data.index, columns=data.columns)\n",
    "    data_with_clusters['Cluster'] = cluster_labels\n",
    "\n",
    "    sorted_data = data_with_clusters.sort_values(by='Cluster').drop('Cluster', axis=1)\n",
    "\n",
    "    sns.heatmap(\n",
    "        sorted_data,\n",
    "        cmap=cmap,\n",
    "        cbar=True,\n",
    "        ax=ax,\n",
    "        annot=False,\n",
    "        xticklabels=True,\n",
    "        yticklabels=True,\n",
    "    )\n",
    "    ax.set_title(title, fontsize=16, weight =\"bold\")  # Bold and larger title\n",
    "    ax.tick_params(axis='x', labelsize=12, labelrotation=90, width=2)\n",
    "    ax.tick_params(axis='y', labelsize=12, width=2)\n",
    "\n",
    "\n",
    "# Create a shared figure with subplots for the heatmaps\n",
    "fig, axes = plt.subplots(1, 3, figsize=(20, 10))\n",
    "\n",
    "# Methylation Clustermap\n",
    "kmeans_clustermap(top_methylation, n_clusters=4, cmap=\"coolwarm\", ax=axes[0], title=\"Methylation (B^i)\")\n",
    "\n",
    "# RNA-seq Clustermap\n",
    "kmeans_clustermap(top_rna, n_clusters=4, cmap=\"coolwarm\", ax=axes[1], title=\"RNA-seq (B^i)\")\n",
    "\n",
    "# Metabolics Clustermap\n",
    "kmeans_clustermap(top_metabolics, n_clusters=4, cmap=\"coolwarm\", ax=axes[2], title=\"Metabolics (B^i)\")\n",
    "\n",
    "# Adjust layout for better spacing\n",
    "plt.tight_layout()\n",
    "plt.show()\n",
    "\n"
   ]
  }
 ],
 "metadata": {
  "kernelspec": {
   "display_name": "Python 3",
   "language": "python",
   "name": "python3"
  },
  "language_info": {
   "codemirror_mode": {
    "name": "ipython",
    "version": 3
   },
   "file_extension": ".py",
   "mimetype": "text/x-python",
   "name": "python",
   "nbconvert_exporter": "python",
   "pygments_lexer": "ipython3",
   "version": "3.11.6"
  }
 },
 "nbformat": 4,
 "nbformat_minor": 2
}
